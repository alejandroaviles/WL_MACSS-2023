{
  "nbformat": 4,
  "nbformat_minor": 0,
  "metadata": {
    "colab": {
      "provenance": [],
      "authorship_tag": "ABX9TyN7T/GVX3B7bz/Q5wmssy5c",
      "include_colab_link": true
    },
    "kernelspec": {
      "name": "python3",
      "display_name": "Python 3"
    },
    "language_info": {
      "name": "python"
    }
  },
  "cells": [
    {
      "cell_type": "markdown",
      "metadata": {
        "id": "view-in-github",
        "colab_type": "text"
      },
      "source": [
        "<a href=\"https://colab.research.google.com/github/alejandroaviles/WL_MACSS-2023/blob/main/test1.ipynb\" target=\"_parent\"><img src=\"https://colab.research.google.com/assets/colab-badge.svg\" alt=\"Open In Colab\"/></a>"
      ]
    },
    {
      "cell_type": "code",
      "source": [
        "!pip install treecorr\n",
        "!gdown --id 1LlI3srCktJmMu0TB4BLXfvbHFuJH1LWR\n",
        "!gdown --id 1LlI3srCktJmMu0TB4BLXfvbHFuJH1LWR"
      ],
      "metadata": {
        "colab": {
          "base_uri": "https://localhost:8080/"
        },
        "id": "KqIA8TX164k-",
        "outputId": "48df47fa-bf5e-4a05-dffe-b8d9b548926a"
      },
      "execution_count": 1,
      "outputs": [
        {
          "output_type": "stream",
          "name": "stdout",
          "text": [
            "Looking in indexes: https://pypi.org/simple, https://us-python.pkg.dev/colab-wheels/public/simple/\n",
            "Collecting treecorr\n",
            "  Downloading TreeCorr-4.3.3-cp310-cp310-manylinux_2_17_x86_64.manylinux2014_x86_64.whl (10.8 MB)\n",
            "\u001b[2K     \u001b[90m━━━━━━━━━━━━━━━━━━━━━━━━━━━━━━━━━━━━━━━━\u001b[0m \u001b[32m10.8/10.8 MB\u001b[0m \u001b[31m50.8 MB/s\u001b[0m eta \u001b[36m0:00:00\u001b[0m\n",
            "\u001b[?25hRequirement already satisfied: numpy in /usr/local/lib/python3.10/dist-packages (from treecorr) (1.22.4)\n",
            "Requirement already satisfied: cffi in /usr/local/lib/python3.10/dist-packages (from treecorr) (1.15.1)\n",
            "Requirement already satisfied: pyyaml in /usr/local/lib/python3.10/dist-packages (from treecorr) (6.0)\n",
            "Collecting LSSTDESC.Coord>=1.1 (from treecorr)\n",
            "  Downloading LSSTDESC.Coord-1.3.0-py3-none-any.whl (27 kB)\n",
            "Requirement already satisfied: future in /usr/local/lib/python3.10/dist-packages (from LSSTDESC.Coord>=1.1->treecorr) (0.18.3)\n",
            "Requirement already satisfied: pycparser in /usr/local/lib/python3.10/dist-packages (from cffi->treecorr) (2.21)\n",
            "Installing collected packages: LSSTDESC.Coord, treecorr\n",
            "Successfully installed LSSTDESC.Coord-1.3.0 treecorr-4.3.3\n"
          ]
        }
      ]
    },
    {
      "cell_type": "code",
      "source": [
        "!gdown --id 1LlI3srCktJmMu0TB4BLXfvbHFuJH1LWR"
      ],
      "metadata": {
        "colab": {
          "base_uri": "https://localhost:8080/"
        },
        "id": "Httr9bRkNec9",
        "outputId": "5e957a58-d79b-4573-f208-d9aaacaaffa8"
      },
      "execution_count": 3,
      "outputs": [
        {
          "output_type": "stream",
          "name": "stdout",
          "text": [
            "/usr/local/lib/python3.10/dist-packages/gdown/cli.py:121: FutureWarning: Option `--id` was deprecated in version 4.3.1 and will be removed in 5.0. You don't need to pass it anymore to use a file ID.\n",
            "  warnings.warn(\n",
            "Downloading...\n",
            "From: https://drive.google.com/uc?id=1LlI3srCktJmMu0TB4BLXfvbHFuJH1LWR\n",
            "To: /content/kappa_A.0.fits\n",
            "100% 4.20M/4.20M [00:00<00:00, 252MB/s]\n"
          ]
        }
      ]
    },
    {
      "cell_type": "code",
      "source": [
        "import numpy as np\n",
        "import matplotlib.pyplot as plt\n",
        "from astropy.io import fits\n",
        "import os\n",
        "\n",
        "import treecorr"
      ],
      "metadata": {
        "id": "xiUfKU5R7QNa"
      },
      "execution_count": 2,
      "outputs": []
    },
    {
      "cell_type": "code",
      "source": [
        "# get the current working directory\n",
        "current_working_directory = os.getcwd()\n",
        "\n",
        "# print output to the console\n",
        "print(current_working_directory)\n",
        "\n",
        "file_exists = os.path.exists('gamma_A.0.fits')\n",
        "\n",
        "print(file_exists)"
      ],
      "metadata": {
        "colab": {
          "base_uri": "https://localhost:8080/"
        },
        "id": "RaZTTr7g_ogY",
        "outputId": "afc86107-ff9c-4460-8fae-4597dbeaed66"
      },
      "execution_count": null,
      "outputs": [
        {
          "output_type": "stream",
          "name": "stdout",
          "text": [
            "/content\n",
            "True\n"
          ]
        }
      ]
    },
    {
      "cell_type": "code",
      "source": [
        "filename='gamma_A.0.fits'\n",
        "gammaA0 = fits.getdata(filename, ext=0)\n",
        "\n",
        "\n",
        "print('file:',filename)\n",
        "print('file shape is',gammaA0.shape)\n",
        "length=gammaA0.shape[1]"
      ],
      "metadata": {
        "id": "9q8gQXoJ9S48",
        "outputId": "62599232-1105-4beb-8530-ddb07198a9ef",
        "colab": {
          "base_uri": "https://localhost:8080/"
        }
      },
      "execution_count": null,
      "outputs": [
        {
          "output_type": "stream",
          "name": "stdout",
          "text": [
            "file: gamma_A.0.fits\n",
            "file shape is (1024, 1024, 2)\n"
          ]
        }
      ]
    },
    {
      "cell_type": "code",
      "source": [
        "listgamma1 = np.zeros(length*length);\n",
        "listgamma2 = np.zeros(length*length);\n",
        "nDec = np.zeros(length*length);\n",
        "nRac = np.zeros(length*length);\n",
        "\n",
        "size_in_degrees=2;\n",
        "tounits=size_in_degrees/length * np.pi/180;\n",
        "\n",
        "print('lenght in degrees:',size_in_degrees)\n",
        "print('conversion to units (rad):',tounits)\n",
        "\n",
        "\n",
        "nn=0;\n",
        "for jj in range(length):\n",
        "    for ii in range(length):\n",
        "        listgamma1[nn] = gammaA0[jj,ii,0]\n",
        "        listgamma2[nn] = gammaA0[jj,ii,1]\n",
        "        nDec[nn] = ii*tounits\n",
        "        nRac[nn] = jj*tounits\n",
        "        nn=nn+1"
      ],
      "metadata": {
        "id": "2s8-7EpO9TWY",
        "colab": {
          "base_uri": "https://localhost:8080/"
        },
        "outputId": "202ab04c-a702-412e-bdc3-df29616b2ee7"
      },
      "execution_count": null,
      "outputs": [
        {
          "output_type": "stream",
          "name": "stdout",
          "text": [
            "lenght in degrees: 2\n",
            "conversion to units (rad): 3.408846195301425e-05\n"
          ]
        }
      ]
    },
    {
      "cell_type": "code",
      "source": [
        "minArcmin=1.\n",
        "maxArcmin=80.\n",
        "minRad=minArcmin*np.pi/60/180\n",
        "maxRad=maxArcmin*np.pi/60/180\n",
        "print(\"minRad={:.5}, maxRad={:.5}\".format(minRad,maxRad))"
      ],
      "metadata": {
        "colab": {
          "base_uri": "https://localhost:8080/"
        },
        "id": "7eSInoV4BVvR",
        "outputId": "2fdc5f1b-db48-4a82-90e5-120d6e5ff591"
      },
      "execution_count": null,
      "outputs": [
        {
          "output_type": "stream",
          "name": "stdout",
          "text": [
            "minRad=0.00029089, maxRad=0.023271\n"
          ]
        }
      ]
    },
    {
      "cell_type": "code",
      "source": [
        "cat=treecorr.Catalog(ra=nRac,dec=nDec,g1=listgamma1,g2=listgamma2,ra_units=\"rad\",dec_units=\"rad\")"
      ],
      "metadata": {
        "id": "AgwHniAZBZX7"
      },
      "execution_count": null,
      "outputs": []
    },
    {
      "cell_type": "code",
      "source": [
        "GG=treecorr.GGCorrelation(min_sep=minRad,max_sep=maxRad,verbose=2,nbins=20)\n",
        "#t1=time.perf_counter()\n",
        "GG.process(cat)\n",
        "#times[nSample]=round(time.perf_counter()-t1,ndigits=4)\n",
        "#print(times)"
      ],
      "metadata": {
        "colab": {
          "base_uri": "https://localhost:8080/"
        },
        "id": "YOf-kK5kBgRk",
        "outputId": "276ca033-f0a4-483f-9d31-84c229bc38c4"
      },
      "execution_count": null,
      "outputs": [
        {
          "output_type": "stream",
          "name": "stdout",
          "text": [
            "nbins = 20, min,max sep = 0.000290888..0.0232711, bin_size = 0.219101\n"
          ]
        },
        {
          "output_type": "stream",
          "name": "stderr",
          "text": [
            "INFO:treecorr:nbins = 20, min,max sep = 0.000290888..0.0232711, bin_size = 0.219101\n"
          ]
        },
        {
          "output_type": "stream",
          "name": "stdout",
          "text": [
            "Starting process GG auto-correlations\n"
          ]
        },
        {
          "output_type": "stream",
          "name": "stderr",
          "text": [
            "INFO:treecorr:Starting process GG auto-correlations\n"
          ]
        },
        {
          "output_type": "stream",
          "name": "stdout",
          "text": [
            "Using 2 threads.\n"
          ]
        },
        {
          "output_type": "stream",
          "name": "stderr",
          "text": [
            "INFO:treecorr:Using 2 threads.\n"
          ]
        },
        {
          "output_type": "stream",
          "name": "stdout",
          "text": [
            "Building GField\n"
          ]
        },
        {
          "output_type": "stream",
          "name": "stderr",
          "text": [
            "INFO:treecorr:Building GField\n"
          ]
        },
        {
          "output_type": "stream",
          "name": "stdout",
          "text": [
            "Starting 256 jobs.\n"
          ]
        },
        {
          "output_type": "stream",
          "name": "stderr",
          "text": [
            "INFO:treecorr:Starting 256 jobs.\n"
          ]
        },
        {
          "output_type": "stream",
          "name": "stdout",
          "text": [
            "varg = 0.000354: sig_sn (per component) = 0.018827\n"
          ]
        },
        {
          "output_type": "stream",
          "name": "stderr",
          "text": [
            "INFO:treecorr:varg = 0.000354: sig_sn (per component) = 0.018827\n"
          ]
        }
      ]
    },
    {
      "cell_type": "code",
      "source": [
        "nSample=len(nDec)"
      ],
      "metadata": {
        "id": "TNFahFH2BiIY"
      },
      "execution_count": null,
      "outputs": []
    },
    {
      "cell_type": "code",
      "source": [
        "GG.__dict__"
      ],
      "metadata": {
        "colab": {
          "base_uri": "https://localhost:8080/"
        },
        "id": "KTpaGkGMBkAc",
        "outputId": "a140c159-9c3e-4b26-fbd7-64de2607b4aa"
      },
      "execution_count": null,
      "outputs": [
        {
          "output_type": "execute_result",
          "data": {
            "text/plain": [
              "{'_corr': <cdata 'void *' 0x3074370>,\n",
              " 'config': {'min_sep': 0.0002908882086657216,\n",
              "  'max_sep': 0.023271056693257724,\n",
              "  'verbose': 2,\n",
              "  'nbins': 20,\n",
              "  'brute': False,\n",
              "  'split_method': 'mean',\n",
              "  'max_top': 10,\n",
              "  'precision': 4,\n",
              "  'pairwise': False,\n",
              "  'm2_uform': 'Crittenden',\n",
              "  'metric': 'Euclidean',\n",
              "  'bin_type': 'Log',\n",
              "  'var_method': 'shot',\n",
              "  'num_bootstrap': 500},\n",
              " 'logger': <Logger treecorr (INFO)>,\n",
              " '_ro': <treecorr.binnedcorr2.Namespace at 0x7f0ddc57b130>,\n",
              " 'coords': 'spherical',\n",
              " 'metric': 'Euclidean',\n",
              " 'results': {},\n",
              " 'npatch1': 1,\n",
              " 'npatch2': 1,\n",
              " '_rng': None,\n",
              " 'xip': array([ 3.25671914e-04,  2.80251684e-04,  2.38893247e-04,  2.00828149e-04,\n",
              "         1.64588509e-04,  1.35040756e-04,  1.09299675e-04,  8.80859776e-05,\n",
              "         6.92955946e-05,  5.15944019e-05,  4.15823633e-05,  3.56679078e-05,\n",
              "         2.73932055e-05,  1.92365766e-05,  1.38187798e-05,  8.69493787e-06,\n",
              "         3.82221237e-06, -2.58415882e-06,  4.86778817e-06,  1.66758143e-06]),\n",
              " 'xim': array([ 2.37930991e-06, -5.78254588e-06,  3.56679218e-06,  6.17088452e-07,\n",
              "        -4.17896766e-06, -3.39564068e-06, -1.25048561e-06, -6.17861699e-07,\n",
              "        -3.52959012e-06, -2.12667821e-06, -4.31443989e-06,  9.88488502e-08,\n",
              "         2.09579383e-06,  7.37477106e-07,  3.20112321e-07, -3.40537186e-06,\n",
              "        -4.26015910e-06, -3.32428112e-06, -5.87683149e-06, -8.49056178e-06]),\n",
              " 'xip_im': array([ 1.16678008e-06,  1.34168884e-06,  2.09557190e-06,  3.07148860e-06,\n",
              "         3.90901801e-06,  3.74383268e-06,  3.10833167e-06,  2.99763708e-06,\n",
              "         2.95705741e-06,  3.13433023e-06,  3.43086292e-06,  3.08111379e-06,\n",
              "         2.14758653e-06,  9.95510091e-07, -1.79704102e-06, -7.50659877e-07,\n",
              "        -4.19285776e-07,  4.47486826e-06,  7.29151453e-06,  4.98562553e-06]),\n",
              " 'xim_im': array([-4.11521594e-07, -7.17874228e-07, -8.85544552e-07, -1.18786899e-06,\n",
              "        -1.62632875e-06, -1.27206790e-06, -1.40027266e-06, -2.14673562e-06,\n",
              "        -1.24730906e-06,  9.19255436e-07,  1.88740970e-06,  2.24462852e-06,\n",
              "         2.95886632e-07, -8.33390998e-07,  2.38298637e-06,  1.15423397e-06,\n",
              "         1.87152402e-06,  4.98560196e-07,  5.01007006e-06,  3.56192006e-06]),\n",
              " 'meanr': array([0.00033073, 0.00041299, 0.00051191, 0.00063412, 0.00079069,\n",
              "        0.00097872, 0.00121606, 0.00152307, 0.00190115, 0.00237077,\n",
              "        0.00293172, 0.00363245, 0.00454828, 0.00568349, 0.00706424,\n",
              "        0.00874779, 0.01090613, 0.01354985, 0.0168917 , 0.0210348 ]),\n",
              " 'meanlogr': array([-8.01585676, -7.79365547, -7.57893423, -7.36536031, -7.14418015,\n",
              "        -6.93060552, -6.71401153, -6.48904726, -6.2669422 , -6.0461712 ,\n",
              "        -5.83377634, -5.61960283, -5.39479863, -5.17194109, -4.95454479,\n",
              "        -4.74060933, -4.52023569, -4.3032144 , -4.08278786, -3.86321471]),\n",
              " 'weight': array([7.30907690e+07, 1.03234756e+08, 1.48219488e+08, 2.45900256e+08,\n",
              "        3.68664768e+08, 5.42589184e+08, 8.86019264e+08, 1.38743488e+09,\n",
              "        2.06282906e+09, 3.18506752e+09, 4.46219059e+09, 7.11870874e+09,\n",
              "        1.10275133e+10, 1.60413286e+10, 2.26756198e+10, 3.25251891e+10,\n",
              "        4.70948905e+10, 6.16659681e+10, 8.34477752e+10, 9.39125637e+10]),\n",
              " 'npairs': array([7.30907690e+07, 1.03234756e+08, 1.48219488e+08, 2.45900256e+08,\n",
              "        3.68664768e+08, 5.42589184e+08, 8.86019264e+08, 1.38743488e+09,\n",
              "        2.06282906e+09, 3.18506752e+09, 4.46219059e+09, 7.11870874e+09,\n",
              "        1.10275133e+10, 1.60413286e+10, 2.26756198e+10, 3.25251891e+10,\n",
              "        4.70948905e+10, 6.16659681e+10, 8.34477752e+10, 9.39125637e+10]),\n",
              " '_varxip': None,\n",
              " '_varxim': None,\n",
              " '_cov': None,\n",
              " '_var_num': 2.5128058894861536e-07,\n",
              " '_coords': 3,\n",
              " '_metric': 1}"
            ]
          },
          "metadata": {},
          "execution_count": 52
        }
      ]
    },
    {
      "cell_type": "code",
      "source": [
        "salida = np.zeros((len(GG.xip),4))  \n",
        "#print(salida)              # Prints \n",
        "\n",
        "for ii in range(len(GG.xip)):\n",
        "    salida[ii,0] = GG.meanr[ii]/np.pi*180*60\n",
        "    salida[ii,1] = GG.xip[ii]\n",
        "    salida[ii,2] = GG.xim[ii]\n",
        "    salida[ii,3] = GG.npairs[ii]"
      ],
      "metadata": {
        "id": "j6Vlt9lFBm9n"
      },
      "execution_count": null,
      "outputs": []
    },
    {
      "cell_type": "code",
      "source": [
        "thtArr=np.array(GG.meanr)/np.pi*180*60#*tounit\n",
        "#plt.figure(figsize=(10,8))\n",
        "fig = plt.figure();\n",
        "ax1 = fig.add_subplot(1, 1, 1)\n",
        "#ax1.axis('equal')\n",
        "#ax1.set_xscale('log')\n",
        "ax1.plot(thtArr,thtArr*GG.xip,linestyle=\"-\",c=\"b\",alpha=.6,label=\"$\\\\xi_+$\")\n",
        "ax1.plot(thtArr,thtArr*GG.xim,linestyle=\"--\",c=\"r\",alpha=.6,label=\"$\\\\xi_-$\")\n",
        "ax1.legend(frameon=False)\n",
        "ax1.set_ylabel(r\"$ \\xi_+(\\theta) $\", fontsize=14)\n",
        "ax1.set_xlabel(r\"$\\theta  \\quad [arcmin]$\", fontsize=14)\n",
        "#plt.title(prefix+\"   points=\"+str(nSample))\n",
        "\n",
        "plt.show()\n"
      ],
      "metadata": {
        "colab": {
          "base_uri": "https://localhost:8080/",
          "height": 456
        },
        "id": "qL5nc05pCtgT",
        "outputId": "85b2f4ca-3526-4d61-af82-7b1ef0d56819"
      },
      "execution_count": null,
      "outputs": [
        {
          "output_type": "display_data",
          "data": {
            "text/plain": [
              "<Figure size 640x480 with 1 Axes>"
            ],
            "image/png": "[encoded data removed]"
          },
          "metadata": {}
        }
      ]
    },
    {
      "cell_type": "code",
      "source": [],
      "metadata": {
        "id": "CtwVRgUmDB4e"
      },
      "execution_count": null,
      "outputs": []
    }
  ]
}