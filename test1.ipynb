{
  "nbformat": 4,
  "nbformat_minor": 0,
  "metadata": {
    "colab": {
      "provenance": [],
      "authorship_tag": "ABX9TyOYoK98ZaE7OPbaAc/HPTAS",
      "include_colab_link": true
    },
    "kernelspec": {
      "name": "python3",
      "display_name": "Python 3"
    },
    "language_info": {
      "name": "python"
    }
  },
  "cells": [
    {
      "cell_type": "markdown",
      "metadata": {
        "id": "view-in-github",
        "colab_type": "text"
      },
      "source": [
        "<a href=\"https://colab.research.google.com/github/alejandroaviles/WL_MACSS-2023/blob/main/test1.ipynb\" target=\"_parent\"><img src=\"https://colab.research.google.com/assets/colab-badge.svg\" alt=\"Open In Colab\"/></a>"
      ]
    },
    {
      "cell_type": "code",
      "execution_count": 2,
      "metadata": {
        "id": "dmhj4ueD6yKr"
      },
      "outputs": [],
      "source": [
        "import numpy as np\n",
        "import matplotlib.pyplot as plt\n",
        "from astropy.io import fits"
      ]
    },
    {
      "cell_type": "code",
      "source": [
        "!pip install treecorr"
      ],
      "metadata": {
        "colab": {
          "base_uri": "https://localhost:8080/"
        },
        "id": "KqIA8TX164k-",
        "outputId": "0ee9f4db-c234-4cf9-a7c4-2c6b77ffc9fe"
      },
      "execution_count": 3,
      "outputs": [
        {
          "output_type": "stream",
          "name": "stdout",
          "text": [
            "Looking in indexes: https://pypi.org/simple, https://us-python.pkg.dev/colab-wheels/public/simple/\n",
            "Collecting treecorr\n",
            "  Downloading TreeCorr-4.3.3-cp310-cp310-manylinux_2_17_x86_64.manylinux2014_x86_64.whl (10.8 MB)\n",
            "\u001b[2K     \u001b[90m━━━━━━━━━━━━━━━━━━━━━━━━━━━━━━━━━━━━━━━━\u001b[0m \u001b[32m10.8/10.8 MB\u001b[0m \u001b[31m83.2 MB/s\u001b[0m eta \u001b[36m0:00:00\u001b[0m\n",
            "\u001b[?25hRequirement already satisfied: numpy in /usr/local/lib/python3.10/dist-packages (from treecorr) (1.22.4)\n",
            "Requirement already satisfied: cffi in /usr/local/lib/python3.10/dist-packages (from treecorr) (1.15.1)\n",
            "Requirement already satisfied: pyyaml in /usr/local/lib/python3.10/dist-packages (from treecorr) (6.0)\n",
            "Collecting LSSTDESC.Coord>=1.1 (from treecorr)\n",
            "  Downloading LSSTDESC.Coord-1.3.0-py3-none-any.whl (27 kB)\n",
            "Requirement already satisfied: future in /usr/local/lib/python3.10/dist-packages (from LSSTDESC.Coord>=1.1->treecorr) (0.18.3)\n",
            "Requirement already satisfied: pycparser in /usr/local/lib/python3.10/dist-packages (from cffi->treecorr) (2.21)\n",
            "Installing collected packages: LSSTDESC.Coord, treecorr\n",
            "Successfully installed LSSTDESC.Coord-1.3.0 treecorr-4.3.3\n"
          ]
        }
      ]
    },
    {
      "cell_type": "code",
      "source": [],
      "metadata": {
        "id": "xiUfKU5R7QNa"
      },
      "execution_count": null,
      "outputs": []
    }
  ]
}