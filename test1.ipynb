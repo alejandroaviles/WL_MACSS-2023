{
  "nbformat": 4,
  "nbformat_minor": 0,
  "metadata": {
    "colab": {
      "provenance": [],
      "authorship_tag": "ABX9TyPTPkGwuJ+wddZXfbiOD3Cr",
      "include_colab_link": true
    },
    "kernelspec": {
      "name": "python3",
      "display_name": "Python 3"
    },
    "language_info": {
      "name": "python"
    }
  },
  "cells": [
    {
      "cell_type": "markdown",
      "metadata": {
        "id": "view-in-github",
        "colab_type": "text"
      },
      "source": [
        "<a href=\"https://colab.research.google.com/github/alejandroaviles/WL_MACSS-2023/blob/main/test1.ipynb\" target=\"_parent\"><img src=\"https://colab.research.google.com/assets/colab-badge.svg\" alt=\"Open In Colab\"/></a>"
      ]
    },
    {
      "cell_type": "code",
      "execution_count": 14,
      "metadata": {
        "id": "dmhj4ueD6yKr"
      },
      "outputs": [],
      "source": [
        "import numpy as np\n",
        "import matplotlib.pyplot as plt\n",
        "from astropy.io import fits\n",
        "from os.path import exists"
      ]
    },
    {
      "cell_type": "code",
      "source": [
        "!pip install treecorr"
      ],
      "metadata": {
        "colab": {
          "base_uri": "https://localhost:8080/"
        },
        "id": "KqIA8TX164k-",
        "outputId": "e34e1d8a-a4ba-4cd9-906c-19d2013520a0"
      },
      "execution_count": 12,
      "outputs": [
        {
          "output_type": "stream",
          "name": "stdout",
          "text": [
            "Looking in indexes: https://pypi.org/simple, https://us-python.pkg.dev/colab-wheels/public/simple/\n",
            "Requirement already satisfied: treecorr in /usr/local/lib/python3.10/dist-packages (4.3.3)\n",
            "Requirement already satisfied: numpy in /usr/local/lib/python3.10/dist-packages (from treecorr) (1.22.4)\n",
            "Requirement already satisfied: cffi in /usr/local/lib/python3.10/dist-packages (from treecorr) (1.15.1)\n",
            "Requirement already satisfied: pyyaml in /usr/local/lib/python3.10/dist-packages (from treecorr) (6.0)\n",
            "Requirement already satisfied: LSSTDESC.Coord>=1.1 in /usr/local/lib/python3.10/dist-packages (from treecorr) (1.3.0)\n",
            "Requirement already satisfied: future in /usr/local/lib/python3.10/dist-packages (from LSSTDESC.Coord>=1.1->treecorr) (0.18.3)\n",
            "Requirement already satisfied: pycparser in /usr/local/lib/python3.10/dist-packages (from cffi->treecorr) (2.21)\n"
          ]
        }
      ]
    },
    {
      "cell_type": "code",
      "source": [
        "import treecorr"
      ],
      "metadata": {
        "id": "xiUfKU5R7QNa"
      },
      "execution_count": 15,
      "outputs": []
    },
    {
      "cell_type": "code",
      "source": [
        "import os.path\n",
        "import os"
      ],
      "metadata": {
        "id": "3BpGfqzi_crS"
      },
      "execution_count": 21,
      "outputs": []
    },
    {
      "cell_type": "code",
      "source": [
        "# get the current working directory\n",
        "current_working_directory = os.getcwd()\n",
        "\n",
        "# print output to the console\n",
        "print(current_working_directory)\n",
        "\n",
        "file_exists = os.path.exists('gamma_A.0.fits')\n",
        "\n",
        "print(file_exists)"
      ],
      "metadata": {
        "id": "RaZTTr7g_ogY",
        "outputId": "afc86107-ff9c-4460-8fae-4597dbeaed66",
        "colab": {
          "base_uri": "https://localhost:8080/"
        }
      },
      "execution_count": 23,
      "outputs": [
        {
          "output_type": "stream",
          "name": "stdout",
          "text": [
            "/content\n",
            "True\n"
          ]
        }
      ]
    },
    {
      "cell_type": "code",
      "source": [
        "filename='gamma_A.0.fits'\n",
        "gammaA0 = fits.getdata(filename, ext=0)\n",
        "\n",
        "\n",
        "print('file:',filename)\n",
        "print('file shape is',gammaA0.shape)\n",
        "length=gammaA0.shape[1]"
      ],
      "metadata": {
        "id": "9q8gQXoJ9S48",
        "outputId": "62599232-1105-4beb-8530-ddb07198a9ef",
        "colab": {
          "base_uri": "https://localhost:8080/"
        }
      },
      "execution_count": 25,
      "outputs": [
        {
          "output_type": "stream",
          "name": "stdout",
          "text": [
            "file: gamma_A.0.fits\n",
            "file shape is (1024, 1024, 2)\n"
          ]
        }
      ]
    },
    {
      "cell_type": "code",
      "source": [
        "listgamma1 = np.zeros(length*length);\n",
        "listgamma2 = np.zeros(length*length);\n",
        "nDec = np.zeros(length*length);\n",
        "nRac = np.zeros(length*length);\n",
        "\n",
        "size_in_degrees=2;\n",
        "tounits=size_in_degrees/length * np.pi/180;\n",
        "\n",
        "print('lenght in degrees:',size_in_degrees)\n",
        "print('conversion to units (rad):',tounits)\n",
        "\n",
        "\n",
        "nn=0;\n",
        "for jj in range(length):\n",
        "    for ii in range(length):\n",
        "        listgamma1[nn] = gammaA0[jj,ii,0]\n",
        "        listgamma2[nn] = gammaA0[jj,ii,1]\n",
        "        nDec[nn] = jj*tounits\n",
        "        nRac[nn] = jj*tounits\n",
        "        nn=nn+1"
      ],
      "metadata": {
        "id": "2s8-7EpO9TWY",
        "outputId": "134a6552-f916-4af7-c346-6ca48e550bda",
        "colab": {
          "base_uri": "https://localhost:8080/"
        }
      },
      "execution_count": 26,
      "outputs": [
        {
          "output_type": "stream",
          "name": "stdout",
          "text": [
            "lenght in degrees: 2\n",
            "conversion to units (rad): 3.408846195301425e-05\n"
          ]
        }
      ]
    },
    {
      "cell_type": "code",
      "source": [
        "minArcmin=1.\n",
        "maxArcmin=80.\n",
        "minRad=minArcmin*np.pi/60/180\n",
        "maxRad=maxArcmin*np.pi/60/180\n",
        "print(\"minRad={:.5}, maxRad={:.5}\".format(minRad,maxRad))"
      ],
      "metadata": {
        "id": "7eSInoV4BVvR",
        "outputId": "09c29d56-3253-48c2-b223-123066abf7be",
        "colab": {
          "base_uri": "https://localhost:8080/"
        }
      },
      "execution_count": 35,
      "outputs": [
        {
          "output_type": "stream",
          "name": "stdout",
          "text": [
            "minRad=0.00029089, maxRad=0.023271\n"
          ]
        }
      ]
    },
    {
      "cell_type": "code",
      "source": [
        "cat=treecorr.Catalog(ra=nRac,dec=nDec,g1=listgamma1,g2=listgamma2,ra_units=\"rad\",dec_units=\"rad\")"
      ],
      "metadata": {
        "id": "AgwHniAZBZX7"
      },
      "execution_count": 36,
      "outputs": []
    },
    {
      "cell_type": "code",
      "source": [
        "GG=treecorr.GGCorrelation(min_sep=minRad,max_sep=maxRad,verbose=2,nbins=20)\n",
        "#t1=time.perf_counter()\n",
        "GG.process(cat)\n",
        "#times[nSample]=round(time.perf_counter()-t1,ndigits=4)\n",
        "#print(times)"
      ],
      "metadata": {
        "id": "YOf-kK5kBgRk",
        "outputId": "13906ef2-30ef-4d2f-cd25-0dbea36f6c28",
        "colab": {
          "base_uri": "https://localhost:8080/"
        }
      },
      "execution_count": 40,
      "outputs": [
        {
          "output_type": "stream",
          "name": "stdout",
          "text": [
            "nbins = 20, min,max sep = 0.000290888..0.0232711, bin_size = 0.219101\n"
          ]
        },
        {
          "output_type": "stream",
          "name": "stderr",
          "text": [
            "INFO:treecorr:nbins = 20, min,max sep = 0.000290888..0.0232711, bin_size = 0.219101\n"
          ]
        },
        {
          "output_type": "stream",
          "name": "stdout",
          "text": [
            "Starting process GG auto-correlations\n"
          ]
        },
        {
          "output_type": "stream",
          "name": "stderr",
          "text": [
            "INFO:treecorr:Starting process GG auto-correlations\n"
          ]
        },
        {
          "output_type": "stream",
          "name": "stdout",
          "text": [
            "Using 2 threads.\n"
          ]
        },
        {
          "output_type": "stream",
          "name": "stderr",
          "text": [
            "INFO:treecorr:Using 2 threads.\n"
          ]
        },
        {
          "output_type": "stream",
          "name": "stdout",
          "text": [
            "Building GField\n"
          ]
        },
        {
          "output_type": "stream",
          "name": "stderr",
          "text": [
            "INFO:treecorr:Building GField\n"
          ]
        },
        {
          "output_type": "stream",
          "name": "stdout",
          "text": [
            "Starting 16 jobs.\n"
          ]
        },
        {
          "output_type": "stream",
          "name": "stderr",
          "text": [
            "INFO:treecorr:Starting 16 jobs.\n"
          ]
        },
        {
          "output_type": "stream",
          "name": "stdout",
          "text": [
            "varg = 0.000354: sig_sn (per component) = 0.018827\n"
          ]
        },
        {
          "output_type": "stream",
          "name": "stderr",
          "text": [
            "INFO:treecorr:varg = 0.000354: sig_sn (per component) = 0.018827\n"
          ]
        }
      ]
    },
    {
      "cell_type": "code",
      "source": [
        "nSample=len(nDec)"
      ],
      "metadata": {
        "id": "TNFahFH2BiIY"
      },
      "execution_count": 41,
      "outputs": []
    },
    {
      "cell_type": "code",
      "source": [
        "GG.__dict__"
      ],
      "metadata": {
        "id": "KTpaGkGMBkAc",
        "outputId": "c10300c1-d0f6-499a-ce57-03cd612594e7",
        "colab": {
          "base_uri": "https://localhost:8080/"
        }
      },
      "execution_count": 42,
      "outputs": [
        {
          "output_type": "execute_result",
          "data": {
            "text/plain": [
              "{'_corr': <cdata 'void *' 0x309ab60>,\n",
              " 'config': {'min_sep': 0.0002908882086657216,\n",
              "  'max_sep': 0.023271056693257724,\n",
              "  'verbose': 2,\n",
              "  'nbins': 20,\n",
              "  'brute': False,\n",
              "  'split_method': 'mean',\n",
              "  'max_top': 10,\n",
              "  'precision': 4,\n",
              "  'pairwise': False,\n",
              "  'm2_uform': 'Crittenden',\n",
              "  'metric': 'Euclidean',\n",
              "  'bin_type': 'Log',\n",
              "  'var_method': 'shot',\n",
              "  'num_bootstrap': 500},\n",
              " 'logger': <Logger treecorr (INFO)>,\n",
              " '_ro': <treecorr.binnedcorr2.Namespace at 0x7f0ddc601e70>,\n",
              " 'coords': 'spherical',\n",
              " 'metric': 'Euclidean',\n",
              " 'results': {},\n",
              " 'npatch1': 1,\n",
              " 'npatch2': 1,\n",
              " '_rng': None,\n",
              " 'xip': array([3.70300058e-05, 3.65896466e-05, 3.57106263e-05, 3.45352992e-05,\n",
              "        3.32585527e-05, 3.20917223e-05, 3.01305009e-05, 2.79596482e-05,\n",
              "        2.61552999e-05, 2.37842181e-05, 1.98027096e-05, 1.52364843e-05,\n",
              "        1.15361276e-05, 9.77133666e-06, 1.03251518e-05, 1.35071163e-05,\n",
              "        1.08206807e-05, 6.76943687e-06, 3.94370156e-07, 3.21619490e-06]),\n",
              " 'xim': array([-2.59478805e-05, -2.55243094e-05, -2.46854936e-05, -2.35780226e-05,\n",
              "        -2.23911628e-05, -2.13069564e-05, -1.94675992e-05, -1.74529511e-05,\n",
              "        -1.58404695e-05, -1.37481225e-05, -1.01133361e-05, -5.92856152e-06,\n",
              "        -2.73870406e-06, -1.67269856e-06, -3.10235058e-06, -7.49051944e-06,\n",
              "        -6.75429039e-06, -5.12742217e-06, -1.87112159e-06, -7.46083084e-06]),\n",
              " 'xip_im': array([9.69682176e-07, 1.06121296e-06, 1.29145994e-06, 1.62264320e-06,\n",
              "        2.02611391e-06, 2.35544553e-06, 2.88599875e-06, 3.55178376e-06,\n",
              "        4.32698342e-06, 5.28918775e-06, 6.20660894e-06, 6.73714728e-06,\n",
              "        6.93264382e-06, 6.29997476e-06, 6.17778573e-06, 7.11321498e-06,\n",
              "        8.29415689e-06, 9.11121779e-06, 9.90701489e-06, 8.70065877e-06]),\n",
              " 'xim_im': array([-6.51353158e-06, -6.45063915e-06, -6.36055438e-06, -6.23027075e-06,\n",
              "        -6.07989667e-06, -5.94220758e-06, -5.77261883e-06, -5.66241005e-06,\n",
              "        -5.62968750e-06, -5.43723531e-06, -5.00992176e-06, -4.71171721e-06,\n",
              "        -4.45956444e-06, -3.62608466e-06, -3.05318798e-06, -2.94092293e-06,\n",
              "        -1.85080841e-06,  8.65193831e-07,  4.52316719e-06,  9.14629335e-06]),\n",
              " 'meanr': array([0.00033742, 0.00038563, 0.00048204, 0.0006266 , 0.00080339,\n",
              "        0.00096407, 0.00120496, 0.00149418, 0.00183154, 0.00231325,\n",
              "        0.00294665, 0.00366266, 0.00454937, 0.00567149, 0.00723605,\n",
              "        0.00886583, 0.01078739, 0.0133184 , 0.01691885, 0.02126009]),\n",
              " 'meanlogr': array([-7.99416894, -7.86063745, -7.6374938 , -7.378173  , -7.12822887,\n",
              "        -6.94434614, -6.7228682 , -6.50724341, -6.30398523, -6.07026577,\n",
              "        -5.82878987, -5.6109518 , -5.3933685 , -5.17405229, -4.93050979,\n",
              "        -4.72649658, -4.53023122, -4.31994677, -4.0820972 , -3.85138438]),\n",
              " 'weight': array([5.33725184e+08, 2.13070643e+09, 2.12651213e+09, 4.24044134e+09,\n",
              "        3.17089382e+09, 4.21108122e+09, 6.28306739e+09, 6.24951296e+09,\n",
              "        8.27116749e+09, 1.22809221e+10, 1.41431931e+10, 1.59048008e+10,\n",
              "        1.95286794e+10, 2.65751101e+10, 3.30175611e+10, 2.81857229e+10,\n",
              "        4.02653184e+10, 4.40234148e+10, 6.76457349e+10, 4.93921239e+10]),\n",
              " 'npairs': array([5.33725184e+08, 2.13070643e+09, 2.12651213e+09, 4.24044134e+09,\n",
              "        3.17089382e+09, 4.21108122e+09, 6.28306739e+09, 6.24951296e+09,\n",
              "        8.27116749e+09, 1.22809221e+10, 1.41431931e+10, 1.59048008e+10,\n",
              "        1.95286794e+10, 2.65751101e+10, 3.30175611e+10, 2.81857229e+10,\n",
              "        4.02653184e+10, 4.40234148e+10, 6.76457349e+10, 4.93921239e+10]),\n",
              " '_varxip': None,\n",
              " '_varxim': None,\n",
              " '_cov': None,\n",
              " '_var_num': 2.5128058894861536e-07,\n",
              " '_coords': 3,\n",
              " '_metric': 1}"
            ]
          },
          "metadata": {},
          "execution_count": 42
        }
      ]
    },
    {
      "cell_type": "code",
      "source": [
        "salida = np.zeros((len(GG.xip),4))  \n",
        "#print(salida)              # Prints \n",
        "\n",
        "for ii in range(len(GG.xip)):\n",
        "    salida[ii,0] = GG.meanr[ii]/np.pi*180*60\n",
        "    salida[ii,1] = GG.xip[ii]\n",
        "    salida[ii,2] = GG.xim[ii]\n",
        "    salida[ii,3] = GG.npairs[ii]"
      ],
      "metadata": {
        "id": "j6Vlt9lFBm9n"
      },
      "execution_count": 45,
      "outputs": []
    },
    {
      "cell_type": "code",
      "source": [
        "thtArr=np.array(GG.meanr)/np.pi*180*60#*tounit\n",
        "#plt.figure(figsize=(10,8))\n",
        "fig = plt.figure();\n",
        "ax1 = fig.add_subplot(1, 1, 1)\n",
        "#ax1.axis('equal')\n",
        "#ax1.set_xscale('log')\n",
        "ax1.plot(thtArr,GG.xip,linestyle=\"-\",c=\"b\",alpha=.6,label=\"$\\\\xi_+$\")\n",
        "ax1.plot(thtArr,GG.xim,linestyle=\"--\",c=\"r\",alpha=.6,label=\"$\\\\xi_-$\")\n",
        "ax1.legend(frameon=False)\n",
        "ax1.set_ylabel(r\"$ \\xi_+(\\theta) $\", fontsize=14)\n",
        "ax1.set_xlabel(r\"$\\theta  \\quad [arcmin]$\", fontsize=14)\n",
        "#plt.title(prefix+\"   points=\"+str(nSample))\n",
        "\n",
        "plt.show()\n"
      ],
      "metadata": {
        "id": "qL5nc05pCtgT",
        "outputId": "b7e4d836-e7c7-4841-a851-31e8ac040a15",
        "colab": {
          "base_uri": "https://localhost:8080/",
          "height": 472
        }
      },
      "execution_count": 46,
      "outputs": [
        {
          "output_type": "display_data",
          "data": {
            "text/plain": [
              "<Figure size 640x480 with 1 Axes>"
            ],
            "image/png": "[encoded data removed]"
          },
          "metadata": {}
        }
      ]
    },
    {
      "cell_type": "code",
      "source": [],
      "metadata": {
        "id": "CtwVRgUmDB4e"
      },
      "execution_count": null,
      "outputs": []
    }
  ]
}