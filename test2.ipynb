{
  "nbformat": 4,
  "nbformat_minor": 0,
  "metadata": {
    "colab": {
      "provenance": [],
      "authorship_tag": "ABX9TyMGUG2bGitcQV8kabGVU/7z",
      "include_colab_link": true
    },
    "kernelspec": {
      "name": "python3",
      "display_name": "Python 3"
    },
    "language_info": {
      "name": "python"
    }
  },
  "cells": [
    {
      "cell_type": "markdown",
      "metadata": {
        "id": "view-in-github",
        "colab_type": "text"
      },
      "source": [
        "<a href=\"https://colab.research.google.com/github/alejandroaviles/WL_MACSS-2023/blob/main/test2.ipynb\" target=\"_parent\"><img src=\"https://colab.research.google.com/assets/colab-badge.svg\" alt=\"Open In Colab\"/></a>"
      ]
    },
    {
      "cell_type": "code",
      "execution_count": null,
      "metadata": {
        "id": "wLoTR_tAGfbl"
      },
      "outputs": [],
      "source": [
        "import matplotlib.pyplot as plt\n",
        "\n",
        "from astropy.visualization import astropy_mpl_style"
      ]
    },
    {
      "cell_type": "code",
      "source": [
        "plt.style.use(astropy_mpl_style)\n",
        "\n",
        "from astropy.io import fits\n",
        "from astropy.utils.data import get_pkg_data_filename\n",
        "\n",
        "image_file = get_pkg_data_filename('gamma_A.0.fits')"
      ],
      "metadata": {
        "id": "fWBJnSacHm7a"
      },
      "execution_count": null,
      "outputs": []
    }
  ]
}