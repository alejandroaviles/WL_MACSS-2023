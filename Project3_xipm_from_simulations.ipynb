{
  "nbformat": 4,
  "nbformat_minor": 0,
  "metadata": {
    "colab": {
      "provenance": [],
      "authorship_tag": "ABX9TyMruSXFCTBJdF9NtIkyavKk",
      "include_colab_link": true
    },
    "kernelspec": {
      "name": "python3",
      "display_name": "Python 3"
    },
    "language_info": {
      "name": "python"
    }
  },
  "cells": [
    {
      "cell_type": "markdown",
      "metadata": {
        "id": "view-in-github",
        "colab_type": "text"
      },
      "source": [
        "<a href=\"https://colab.research.google.com/github/alejandroaviles/WL_MACSS-2023/blob/main/Project3_xipm_from_simulations.ipynb\" target=\"_parent\"><img src=\"https://colab.research.google.com/assets/colab-badge.svg\" alt=\"Open In Colab\"/></a>"
      ]
    },
    {
      "cell_type": "markdown",
      "source": [
        "# **Project 3:** Compute the correlation functions $\\xi_{\\pm}$ from simulations\n",
        "  "
      ],
      "metadata": {
        "id": "hJPfWSuy3bBS"
      }
    },
    {
      "cell_type": "markdown",
      "source": [
        "Import modules. These are avaiilabe in Google Colab. If you are running this from your lap, you have to install them. e.g. conda install astropy, pip install os-sys  "
      ],
      "metadata": {
        "id": "cjXikMpx4Pz5"
      }
    },
    {
      "cell_type": "code",
      "source": [
        "import numpy as np\n",
        "import matplotlib.pyplot as plt\n",
        "from astropy.io import fits\n",
        "import os"
      ],
      "metadata": {
        "id": "c_4qtS463GCj"
      },
      "execution_count": 4,
      "outputs": []
    },
    {
      "cell_type": "markdown",
      "source": [
        "clone course Github repository"
      ],
      "metadata": {
        "id": "AXPQP_QQ34f1"
      }
    },
    {
      "cell_type": "code",
      "source": [
        "!git clone https://github.com/alejandroaviles/WL_MACSS-2023.git"
      ],
      "metadata": {
        "id": "hyVd6vB5Ob50",
        "outputId": "543f87f5-0984-4dee-e09c-5fc88131850e",
        "colab": {
          "base_uri": "https://localhost:8080/"
        }
      },
      "execution_count": 2,
      "outputs": [
        {
          "output_type": "stream",
          "name": "stdout",
          "text": [
            "fatal: destination path 'WL_MACSS-2023' already exists and is not an empty directory.\n"
          ]
        }
      ]
    },
    {
      "cell_type": "code",
      "source": [
        "os.chdir('WL_MACSS-2023')  # move to repositiry folder"
      ],
      "metadata": {
        "id": "cUjF1lc2PQzL"
      },
      "execution_count": 5,
      "outputs": []
    },
    {
      "cell_type": "markdown",
      "source": [
        "Install treecorr"
      ],
      "metadata": {
        "id": "JJfmZld94w_H"
      }
    },
    {
      "cell_type": "code",
      "source": [
        "!pip install treecorr"
      ],
      "metadata": {
        "colab": {
          "base_uri": "https://localhost:8080/"
        },
        "id": "KqIA8TX164k-",
        "outputId": "32ef5ace-2bba-44cc-eac1-91d7ebed8081"
      },
      "execution_count": 6,
      "outputs": [
        {
          "output_type": "stream",
          "name": "stdout",
          "text": [
            "Looking in indexes: https://pypi.org/simple, https://us-python.pkg.dev/colab-wheels/public/simple/\n",
            "Collecting treecorr\n",
            "  Downloading TreeCorr-4.3.3-cp310-cp310-manylinux_2_17_x86_64.manylinux2014_x86_64.whl (10.8 MB)\n",
            "\u001b[2K     \u001b[90m━━━━━━━━━━━━━━━━━━━━━━━━━━━━━━━━━━━━━━━━\u001b[0m \u001b[32m10.8/10.8 MB\u001b[0m \u001b[31m92.0 MB/s\u001b[0m eta \u001b[36m0:00:00\u001b[0m\n",
            "\u001b[?25hRequirement already satisfied: numpy in /usr/local/lib/python3.10/dist-packages (from treecorr) (1.22.4)\n",
            "Requirement already satisfied: cffi in /usr/local/lib/python3.10/dist-packages (from treecorr) (1.15.1)\n",
            "Requirement already satisfied: pyyaml in /usr/local/lib/python3.10/dist-packages (from treecorr) (6.0)\n",
            "Collecting LSSTDESC.Coord>=1.1 (from treecorr)\n",
            "  Downloading LSSTDESC.Coord-1.3.0-py3-none-any.whl (27 kB)\n",
            "Requirement already satisfied: future in /usr/local/lib/python3.10/dist-packages (from LSSTDESC.Coord>=1.1->treecorr) (0.18.3)\n",
            "Requirement already satisfied: pycparser in /usr/local/lib/python3.10/dist-packages (from cffi->treecorr) (2.21)\n",
            "Installing collected packages: LSSTDESC.Coord, treecorr\n",
            "Successfully installed LSSTDESC.Coord-1.3.0 treecorr-4.3.3\n"
          ]
        }
      ]
    },
    {
      "cell_type": "code",
      "source": [
        "import treecorr"
      ],
      "metadata": {
        "id": "xiUfKU5R7QNa"
      },
      "execution_count": 7,
      "outputs": []
    },
    {
      "cell_type": "markdown",
      "source": [
        "## We use the Weak Lensing simulations from [astro-ph/0312133](https://arxiv.org/abs/astro-ph/0312133) available [here](http://mwhite.berkeley.edu/Lensing/ValeWhite/). "
      ],
      "metadata": {
        "id": "4SoJwRpG5Ykh"
      }
    },
    {
      "cell_type": "markdown",
      "source": [
        "Just checking files are already in the directory"
      ],
      "metadata": {
        "id": "i7rWrR1A42KH"
      }
    },
    {
      "cell_type": "code",
      "source": [
        "# get the current working directory\n",
        "current_working_directory = os.getcwd()\n",
        "# print output to the console\n",
        "print(current_working_directory)\n",
        "file_exists = os.path.exists('gamma_A.0.fits')\n",
        "print(file_exists)"
      ],
      "metadata": {
        "colab": {
          "base_uri": "https://localhost:8080/"
        },
        "id": "RaZTTr7g_ogY",
        "outputId": "0137fa97-0c31-463c-fc4c-447797ca8fe6"
      },
      "execution_count": 20,
      "outputs": [
        {
          "output_type": "stream",
          "name": "stdout",
          "text": [
            "/content/WL_MACSS-2023\n",
            "True\n"
          ]
        }
      ]
    },
    {
      "cell_type": "code",
      "source": [
        "catalogue='A'\n",
        "number='0'\n",
        "\n",
        "filename='gamma_'+catalogue+'.'+number+'.fits'\n",
        "gammaA0 = fits.getdata(filename, ext=0)\n",
        "\n",
        "print('file:',filename)\n",
        "print('file shape is',gammaA0.shape)\n",
        "length=gammaA0.shape[1]"
      ],
      "metadata": {
        "id": "9q8gQXoJ9S48",
        "outputId": "1da7bf67-c168-4b92-cf6d-917f18f53a3f",
        "colab": {
          "base_uri": "https://localhost:8080/"
        }
      },
      "execution_count": 22,
      "outputs": [
        {
          "output_type": "stream",
          "name": "stdout",
          "text": [
            "file: gamma_A.0.fits\n",
            "file shape is (1024, 1024, 2)\n"
          ]
        }
      ]
    },
    {
      "cell_type": "markdown",
      "source": [
        "Extract numpy arrays for $\\gamma_1$ and $\\gamma_2$, and for the positions (located on a 2-dim euclidian regular grid)"
      ],
      "metadata": {
        "id": "Tg0YLtkH6PTX"
      }
    },
    {
      "cell_type": "code",
      "source": [
        "A0gamma1 = np.zeros(length*length);\n",
        "A0gamma2 = np.zeros(length*length);\n",
        "yT = np.zeros(length*length);\n",
        "xT = np.zeros(length*length);\n",
        "\n",
        "size_in_degrees=2;  \n",
        "tounits=size_in_degrees/length * np.pi/180; # 1 degree = pi/180\n",
        "\n",
        "print('lenght in degrees:',size_in_degrees)\n",
        "print('conversion to units (rad):',tounits)\n",
        "\n",
        "\n",
        "nn=0;\n",
        "for jj in range(length):\n",
        "    for ii in range(length):\n",
        "        A0gamma1[nn] = gammaA0[jj,ii,0]\n",
        "        A0gamma2[nn] = gammaA0[jj,ii,1]\n",
        "        xT[nn] = ii*tounits\n",
        "        yT[nn] = jj*tounits\n",
        "        nn=nn+1\n",
        "\n",
        "print('number of input data:',len(xT))\n"
      ],
      "metadata": {
        "id": "2s8-7EpO9TWY",
        "colab": {
          "base_uri": "https://localhost:8080/"
        },
        "outputId": "72652e74-f1fc-4ae2-a024-70acca258817"
      },
      "execution_count": 27,
      "outputs": [
        {
          "output_type": "stream",
          "name": "stdout",
          "text": [
            "lenght in degrees: 2\n",
            "conversion to units (rad): 3.408846195301425e-05\n",
            "number of input data: 1048576\n"
          ]
        }
      ]
    },
    {
      "cell_type": "markdown",
      "source": [
        "## Run Treecorr"
      ],
      "metadata": {
        "id": "T4EnIQ1k81ov"
      }
    },
    {
      "cell_type": "markdown",
      "source": [
        "Codes units are radians, but usually people prefer arcmin for presentation purposes. 1 arcmin = $\\pi \\,/ (180 \\times 60)$ rad $\\sim 0.00029$ rad"
      ],
      "metadata": {
        "id": "gh6ew_FG6qbM"
      }
    },
    {
      "cell_type": "code",
      "source": [
        "minArcmin=1.\n",
        "maxArcmin=60.\n",
        "minRad=minArcmin*np.pi/60/180\n",
        "maxRad=maxArcmin*np.pi/60/180\n",
        "print(\"minRad={:.5}, maxRad={:.5}\".format(minRad,maxRad))\n",
        "nbins=10"
      ],
      "metadata": {
        "colab": {
          "base_uri": "https://localhost:8080/"
        },
        "id": "7eSInoV4BVvR",
        "outputId": "fcf8680e-9f45-4975-e883-a26381b17a52"
      },
      "execution_count": 11,
      "outputs": [
        {
          "output_type": "stream",
          "name": "stdout",
          "text": [
            "minRad=0.00029089, maxRad=0.017453\n"
          ]
        }
      ]
    },
    {
      "cell_type": "markdown",
      "source": [
        "Pass the catalogue to treecorr"
      ],
      "metadata": {
        "id": "PxwoFYOF8IzG"
      }
    },
    {
      "cell_type": "code",
      "source": [
        "#cat=treecorr.Catalog(ra=xT,dec=yT,g1=A0gamma1,g2=A0gamma2,ra_units=\"rad\",dec_units=\"rad\")\n",
        "catalogue=treecorr.Catalog(x=xT,y=yT,g1=A0gamma1,g2=A0gamma2,x_units=\"rad\",y_units=\"rad\")"
      ],
      "metadata": {
        "id": "AgwHniAZBZX7"
      },
      "execution_count": 24,
      "outputs": []
    },
    {
      "cell_type": "markdown",
      "source": [
        "Run treecorr"
      ],
      "metadata": {
        "id": "tkD8dGz08UFZ"
      }
    },
    {
      "cell_type": "code",
      "source": [
        "GG=treecorr.GGCorrelation(min_sep=minRad,max_sep=maxRad,verbose=2,nbins=nbins)\n",
        "GG.process(catalogue)"
      ],
      "metadata": {
        "colab": {
          "base_uri": "https://localhost:8080/"
        },
        "id": "YOf-kK5kBgRk",
        "outputId": "85a80942-ffd3-42cf-d37c-4268d482450f"
      },
      "execution_count": 25,
      "outputs": [
        {
          "output_type": "stream",
          "name": "stdout",
          "text": [
            "nbins = 10, min,max sep = 0.000290888..0.0174533, bin_size = 0.409434\n"
          ]
        },
        {
          "output_type": "stream",
          "name": "stderr",
          "text": [
            "INFO:treecorr:nbins = 10, min,max sep = 0.000290888..0.0174533, bin_size = 0.409434\n"
          ]
        },
        {
          "output_type": "stream",
          "name": "stdout",
          "text": [
            "Starting process GG auto-correlations\n"
          ]
        },
        {
          "output_type": "stream",
          "name": "stderr",
          "text": [
            "INFO:treecorr:Starting process GG auto-correlations\n"
          ]
        },
        {
          "output_type": "stream",
          "name": "stdout",
          "text": [
            "Using 2 threads.\n"
          ]
        },
        {
          "output_type": "stream",
          "name": "stderr",
          "text": [
            "INFO:treecorr:Using 2 threads.\n"
          ]
        },
        {
          "output_type": "stream",
          "name": "stdout",
          "text": [
            "Building GField\n"
          ]
        },
        {
          "output_type": "stream",
          "name": "stderr",
          "text": [
            "INFO:treecorr:Building GField\n"
          ]
        },
        {
          "output_type": "stream",
          "name": "stdout",
          "text": [
            "Starting 256 jobs.\n"
          ]
        },
        {
          "output_type": "stream",
          "name": "stderr",
          "text": [
            "INFO:treecorr:Starting 256 jobs.\n"
          ]
        },
        {
          "output_type": "stream",
          "name": "stdout",
          "text": [
            "varg = 0.000354: sig_sn (per component) = 0.018827\n"
          ]
        },
        {
          "output_type": "stream",
          "name": "stderr",
          "text": [
            "INFO:treecorr:varg = 0.000354: sig_sn (per component) = 0.018827\n"
          ]
        }
      ]
    },
    {
      "cell_type": "markdown",
      "source": [
        "Check what we obtain from treecorr:"
      ],
      "metadata": {
        "id": "vt9bIqYS8u9C"
      }
    },
    {
      "cell_type": "code",
      "source": [
        "GG.__dict__"
      ],
      "metadata": {
        "colab": {
          "base_uri": "https://localhost:8080/"
        },
        "id": "KTpaGkGMBkAc",
        "outputId": "b337a2f7-7d2a-462b-f3da-2721406c3944"
      },
      "execution_count": 15,
      "outputs": [
        {
          "output_type": "execute_result",
          "data": {
            "text/plain": [
              "{'_corr': <cdata 'void *' 0x13c9850>,\n",
              " 'config': {'min_sep': 0.0002908882086657216,\n",
              "  'max_sep': 0.017453292519943292,\n",
              "  'verbose': 2,\n",
              "  'nbins': 10,\n",
              "  'brute': False,\n",
              "  'split_method': 'mean',\n",
              "  'max_top': 10,\n",
              "  'precision': 4,\n",
              "  'pairwise': False,\n",
              "  'm2_uform': 'Crittenden',\n",
              "  'metric': 'Euclidean',\n",
              "  'bin_type': 'Log',\n",
              "  'var_method': 'shot',\n",
              "  'num_bootstrap': 500},\n",
              " 'logger': <Logger treecorr (INFO)>,\n",
              " '_ro': <treecorr.binnedcorr2.Namespace at 0x7f6e875ddff0>,\n",
              " 'coords': 'flat',\n",
              " 'metric': 'Euclidean',\n",
              " 'results': {},\n",
              " 'npatch1': 1,\n",
              " 'npatch2': 1,\n",
              " '_rng': None,\n",
              " 'xip': array([3.02832135e-04, 2.24363092e-04, 1.56827231e-04, 1.06644524e-04,\n",
              "        7.00641450e-05, 4.31243126e-05, 2.96064006e-05, 1.59524177e-05,\n",
              "        6.85589140e-06, 1.31451575e-07]),\n",
              " 'xim': array([-9.73387791e-07, -2.11330720e-06, -3.40266898e-07, -3.83613009e-06,\n",
              "        -1.38292718e-06, -2.15426757e-06,  7.64716549e-07,  2.45727187e-07,\n",
              "        -3.90291179e-06, -4.25214102e-06]),\n",
              " 'xip_im': array([ 1.02873310e-06,  2.10006355e-06,  3.11486672e-06,  1.85730676e-06,\n",
              "         2.01448036e-06,  1.27766609e-06,  6.76551962e-08, -1.61177236e-06,\n",
              "        -1.00989210e-06,  1.09036105e-06]),\n",
              " 'xim_im': array([-4.97258521e-07, -1.13328551e-06, -1.33153668e-06, -1.78043926e-06,\n",
              "        -1.03536938e-06,  1.74533775e-06,  7.88788040e-07,  1.00868269e-06,\n",
              "         1.41993879e-06,  1.64008341e-06]),\n",
              " 'meanr': array([0.00037173, 0.00055743, 0.00084069, 0.00125875, 0.00189584,\n",
              "        0.00286382, 0.0043149 , 0.00646141, 0.00971091, 0.01451813]),\n",
              " 'meanlogr': array([-7.9038967 , -7.497218  , -7.08734564, -6.68327767, -6.27427   ,\n",
              "        -5.86162524, -5.45180862, -5.04765863, -4.64076301, -4.23800456]),\n",
              " 'weight': array([1.59999300e+08, 3.28748752e+08, 7.75693616e+08, 1.64243379e+09,\n",
              "        3.79528320e+09, 8.26174438e+09, 1.76862413e+10, 3.57194220e+10,\n",
              "        7.19928689e+10, 1.23286716e+11]),\n",
              " 'npairs': array([1.59999300e+08, 3.28748752e+08, 7.75693616e+08, 1.64243379e+09,\n",
              "        3.79528320e+09, 8.26174438e+09, 1.76862413e+10, 3.57194220e+10,\n",
              "        7.19928689e+10, 1.23286716e+11]),\n",
              " '_varxip': None,\n",
              " '_varxim': None,\n",
              " '_cov': None,\n",
              " '_var_num': 2.5128058894861536e-07,\n",
              " '_coords': 1,\n",
              " '_metric': 1}"
            ]
          },
          "metadata": {},
          "execution_count": 15
        }
      ]
    },
    {
      "cell_type": "markdown",
      "source": [
        "Unnecessary:"
      ],
      "metadata": {
        "id": "Qd5MmeL_9A5g"
      }
    },
    {
      "cell_type": "code",
      "source": [
        "salida = np.zeros((len(GG.xip),4))  \n",
        "#print(salida)              # Prints \n",
        "\n",
        "for ii in range(len(GG.xip)):\n",
        "    salida[ii,0] = GG.meanr[ii]/np.pi*180*60\n",
        "    salida[ii,1] = GG.xip[ii]\n",
        "    salida[ii,2] = GG.xim[ii]\n",
        "    salida[ii,3] = GG.npairs[ii]"
      ],
      "metadata": {
        "id": "j6Vlt9lFBm9n"
      },
      "execution_count": 16,
      "outputs": []
    },
    {
      "cell_type": "markdown",
      "source": [
        "## **PLOT**"
      ],
      "metadata": {
        "id": "2XzvD0CV9F4B"
      }
    },
    {
      "cell_type": "code",
      "source": [
        "thtArr=np.array(GG.meanr)/np.pi*180*60\n",
        "#plt.figure(figsize=(10,8))\n",
        "fig = plt.figure();\n",
        "ax1 = fig.add_subplot(1, 1, 1)\n",
        "#ax1.axis('equal')\n",
        "#ax1.set_xscale('log')\n",
        "ax1.set_xscale('log')\n",
        "ax1.plot(thtArr,thtArr*GG.xip,linestyle=\"-\",c=\"b\",alpha=.6,label=\"$\\\\xi_+$\")\n",
        "ax1.plot(thtArr,thtArr*GG.xim,linestyle=\"--\",c=\"r\",alpha=.6,label=\"$\\\\xi_-$\")\n",
        "ax1.legend(frameon=False)\n",
        "ax1.set_ylabel(r\"$ \\theta \\xi_{\\pm}(\\theta) $\", fontsize=14)\n",
        "ax1.set_xlabel(r\"$\\theta  \\quad $[arcmin]\", fontsize=14)\n",
        "#plt.title(prefix+\"   points=\"+str(nSample))\n",
        "\n",
        "plt.show()\n"
      ],
      "metadata": {
        "colab": {
          "base_uri": "https://localhost:8080/",
          "height": 461
        },
        "id": "qL5nc05pCtgT",
        "outputId": "5c948c9a-ae2b-4e0a-c6f1-c434c3fe7284"
      },
      "execution_count": 28,
      "outputs": [
        {
          "output_type": "display_data",
          "data": {
            "text/plain": [
              "<Figure size 640x480 with 1 Axes>"
            ],
            "image/png": "[encoded data removed]"
          },
          "metadata": {}
        }
      ]
    },
    {
      "cell_type": "code",
      "source": [],
      "metadata": {
        "id": "CtwVRgUmDB4e"
      },
      "execution_count": null,
      "outputs": []
    },
    {
      "cell_type": "markdown",
      "source": [
        "# Download all realizations of the **sims** from drive.\n",
        "\n",
        "## Either, you can download them from [mwhite.berkeley.edu/Lensing/ValeWhite/](http://mwhite.berkeley.edu/Lensing/ValeWhite/)"
      ],
      "metadata": {
        "id": "L5HzuI-ZsAHX"
      }
    },
    {
      "cell_type": "code",
      "source": [
        "!gdown 1Tv7Q9lKa6ymUeWREcomDAO45EijLoM9P"
      ],
      "metadata": {
        "colab": {
          "base_uri": "https://localhost:8080/"
        },
        "id": "3eT5pYvtsEkB",
        "outputId": "d13de6c5-bc54-46ab-a3f5-1264fbaa10d5"
      },
      "execution_count": 29,
      "outputs": [
        {
          "output_type": "stream",
          "name": "stdout",
          "text": [
            "Downloading...\n",
            "From: https://drive.google.com/uc?id=1Tv7Q9lKa6ymUeWREcomDAO45EijLoM9P\n",
            "To: /content/WL_MACSS-2023/MWhite_WL_sims.zip\n",
            "100% 232M/232M [00:01<00:00, 128MB/s]\n"
          ]
        }
      ]
    },
    {
      "cell_type": "code",
      "source": [
        "!unzip MWhite_WL_sims.zip"
      ],
      "metadata": {
        "id": "AKNbJ7Egtg5r",
        "outputId": "9e13d8a7-3eb2-450e-e100-5a45b8c439d3",
        "colab": {
          "base_uri": "https://localhost:8080/"
        }
      },
      "execution_count": 30,
      "outputs": [
        {
          "output_type": "stream",
          "name": "stdout",
          "text": [
            "Archive:  MWhite_WL_sims.zip\n",
            "replace sims/gamma_B.4.fits? [y]es, [n]o, [A]ll, [N]one, [r]ename: \n",
            "error:  invalid response [{ENTER}]\n",
            "replace sims/gamma_B.4.fits? [y]es, [n]o, [A]ll, [N]one, [r]ename: y\n",
            "  inflating: sims/gamma_B.4.fits     \n",
            "replace sims/kappa_B.1.fits? [y]es, [n]o, [A]ll, [N]one, [r]ename: y\n",
            "  inflating: sims/kappa_B.1.fits     \n",
            "replace sims/gamma_A.4.fits? [y]es, [n]o, [A]ll, [N]one, [r]ename: y\n",
            "  inflating: sims/gamma_A.4.fits     \n",
            "replace sims/kappa_A.8.fits? [y]es, [n]o, [A]ll, [N]one, [r]ename: y\n",
            "  inflating: sims/kappa_A.8.fits     \n",
            "replace sims/gamma_A.3.fits? [y]es, [n]o, [A]ll, [N]one, [r]ename: y\n",
            "  inflating: sims/gamma_A.3.fits     \n",
            "replace sims/gamma_A.7.fits? [y]es, [n]o, [A]ll, [N]one, [r]ename: yy\n",
            "  inflating: sims/gamma_A.7.fits     \n",
            "replace sims/kappa_A.5.fits? [y]es, [n]o, [A]ll, [N]one, [r]ename: y\n",
            "  inflating: sims/kappa_A.5.fits     \n",
            "replace sims/kappa_B.2.fits? [y]es, [n]o, [A]ll, [N]one, [r]ename: y\n",
            "  inflating: sims/kappa_B.2.fits     \n",
            "replace sims/gamma_B.3.fits? [y]es, [n]o, [A]ll, [N]one, [r]ename: y\n",
            "  inflating: sims/gamma_B.3.fits     \n",
            "replace sims/kappa_B.5.fits? [y]es, [n]o, [A]ll, [N]one, [r]ename: y\n",
            "  inflating: sims/kappa_B.5.fits     \n",
            "replace sims/.ipynb_checkpoints/0_README-checkpoint.txt? [y]es, [n]o, [A]ll, [N]one, [r]ename: y\n",
            "  inflating: sims/.ipynb_checkpoints/0_README-checkpoint.txt  \n",
            "replace sims/gamma_A.8.fits? [y]es, [n]o, [A]ll, [N]one, [r]ename: y\n",
            "  inflating: sims/gamma_A.8.fits     \n",
            "replace sims/kappa_A.7.fits? [y]es, [n]o, [A]ll, [N]one, [r]ename: yyy\n",
            "  inflating: sims/kappa_A.7.fits     \n",
            "replace sims/gamma_B.9.fits? [y]es, [n]o, [A]ll, [N]one, [r]ename: y\n",
            "  inflating: sims/gamma_B.9.fits     \n",
            "replace sims/kappa_A.0.fits? [y]es, [n]o, [A]ll, [N]one, [r]ename: y\n",
            "  inflating: sims/kappa_A.0.fits     \n",
            "replace sims/gamma_B.7.fits? [y]es, [n]o, [A]ll, [N]one, [r]ename: y\n",
            "  inflating: sims/gamma_B.7.fits     \n",
            "replace sims/kappa_B.6.fits? [y]es, [n]o, [A]ll, [N]one, [r]ename: y\n",
            "  inflating: sims/kappa_B.6.fits     \n",
            "replace sims/gamma_B.1.fits? [y]es, [n]o, [A]ll, [N]one, [r]ename: y\n",
            "  inflating: sims/gamma_B.1.fits     \n",
            "replace sims/gamma_B.0.fits? [y]es, [n]o, [A]ll, [N]one, [r]ename: y\n",
            "  inflating: sims/gamma_B.0.fits     \n",
            "replace sims/kappa_A.2.fits? [y]es, [n]o, [A]ll, [N]one, [r]ename: y\n",
            "  inflating: sims/kappa_A.2.fits     \n",
            "replace sims/kappa_A.4.fits? [y]es, [n]o, [A]ll, [N]one, [r]ename: y\n",
            "  inflating: sims/kappa_A.4.fits     \n",
            "replace sims/gamma_A.9.fits? [y]es, [n]o, [A]ll, [N]one, [r]ename: y\n",
            "  inflating: sims/gamma_A.9.fits     \n",
            "replace sims/gamma_B.2.fits? [y]es, [n]o, [A]ll, [N]one, [r]ename: y\n",
            "  inflating: sims/gamma_B.2.fits     \n",
            "replace sims/0_README.txt? [y]es, [n]o, [A]ll, [N]one, [r]ename: yy\n",
            "  inflating: sims/0_README.txt       \n",
            "replace sims/kappa_B.7.fits? [y]es, [n]o, [A]ll, [N]one, [r]ename: y\n",
            "  inflating: sims/kappa_B.7.fits     \n",
            "replace sims/kappa_A.3.fits? [y]es, [n]o, [A]ll, [N]one, [r]ename: yy\n",
            "  inflating: sims/kappa_A.3.fits     \n",
            "replace sims/gamma_B.8.fits? [y]es, [n]o, [A]ll, [N]one, [r]ename: y\n",
            "  inflating: sims/gamma_B.8.fits     \n",
            "replace sims/kappa_B.3.fits? [y]es, [n]o, [A]ll, [N]one, [r]ename: y\n",
            "  inflating: sims/kappa_B.3.fits     \n",
            "replace sims/gamma_B.5.fits? [y]es, [n]o, [A]ll, [N]one, [r]ename: y\n",
            "  inflating: sims/gamma_B.5.fits     \n",
            "replace sims/gamma_A.2.fits? [y]es, [n]o, [A]ll, [N]one, [r]ename: y\n",
            "  inflating: sims/gamma_A.2.fits     \n",
            "replace sims/gamma_A.5.fits? [y]es, [n]o, [A]ll, [N]one, [r]ename: y\n",
            "  inflating: sims/gamma_A.5.fits     \n",
            "replace sims/gamma_A.1.fits? [y]es, [n]o, [A]ll, [N]one, [r]ename: y\n",
            "  inflating: sims/gamma_A.1.fits     \n",
            "replace sims/kappa_B.9.fits? [y]es, [n]o, [A]ll, [N]one, [r]ename: y\n",
            "  inflating: sims/kappa_B.9.fits     \n",
            "replace sims/kappa_B.0.fits? [y]es, [n]o, [A]ll, [N]one, [r]ename: y\n",
            "  inflating: sims/kappa_B.0.fits     \n",
            "replace sims/kappa_A.1.fits? [y]es, [n]o, [A]ll, [N]one, [r]ename: y\n",
            "  inflating: sims/kappa_A.1.fits     \n",
            "replace sims/gamma_A.0.fits? [y]es, [n]o, [A]ll, [N]one, [r]ename: yy\n",
            "  inflating: sims/gamma_A.0.fits     \n",
            "replace sims/kappa_A.6.fits? [y]es, [n]o, [A]ll, [N]one, [r]ename: y\n",
            "  inflating: sims/kappa_A.6.fits     \n",
            "replace sims/gamma_A.6.fits? [y]es, [n]o, [A]ll, [N]one, [r]ename: y\n",
            "  inflating: sims/gamma_A.6.fits     \n",
            "replace sims/kappa_A.9.fits? [y]es, [n]o, [A]ll, [N]one, [r]ename: y\n",
            "  inflating: sims/kappa_A.9.fits     \n",
            "replace sims/kappa_B.8.fits? [y]es, [n]o, [A]ll, [N]one, [r]ename: y\n",
            "  inflating: sims/kappa_B.8.fits     \n",
            "replace sims/kappa_B.4.fits? [y]es, [n]o, [A]ll, [N]one, [r]ename: y\n",
            "  inflating: sims/kappa_B.4.fits     \n",
            "replace sims/gamma_B.6.fits? [y]es, [n]o, [A]ll, [N]one, [r]ename: yy\n",
            "  inflating: sims/gamma_B.6.fits     \n"
          ]
        }
      ]
    },
    {
      "cell_type": "markdown",
      "source": [
        "# **Exercise**\n",
        "\n",
        "### Do the same for the rest of the realizations: \n",
        "\n",
        "1. Choose either simulations A or simulations B: *gamma_{A,B}.{0-9}.fits*. \n",
        "2. Take the average of the 10 realizations and the standard deviations. \n",
        "3. Plot the average with error bars\n",
        "4. *Bonus:* Do the same for the simulations of the convergence *kappa_{A,B}.{0-9}.fits*"
      ],
      "metadata": {
        "id": "G-DwdgTC-HUR"
      }
    },
    {
      "cell_type": "code",
      "source": [],
      "metadata": {
        "id": "Lo5t2OwqtsfY"
      },
      "execution_count": null,
      "outputs": []
    },
    {
      "cell_type": "markdown",
      "source": [],
      "metadata": {
        "id": "p6rsGM4i3Za1"
      }
    }
  ]
}