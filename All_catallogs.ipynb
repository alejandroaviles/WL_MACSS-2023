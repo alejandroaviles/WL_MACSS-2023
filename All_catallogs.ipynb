{
  "nbformat": 4,
  "nbformat_minor": 0,
  "metadata": {
    "colab": {
      "provenance": [],
      "authorship_tag": "ABX9TyOF+wyG1VH9sECzGgyiC6e0",
      "include_colab_link": true
    },
    "kernelspec": {
      "name": "python3",
      "display_name": "Python 3"
    },
    "language_info": {
      "name": "python"
    }
  },
  "cells": [
    {
      "cell_type": "markdown",
      "metadata": {
        "id": "view-in-github",
        "colab_type": "text"
      },
      "source": [
        "<a href=\"https://colab.research.google.com/github/alejandroaviles/WL_MACSS-2023/blob/main/All_catallogs.ipynb\" target=\"_parent\"><img src=\"https://colab.research.google.com/assets/colab-badge.svg\" alt=\"Open In Colab\"/></a>"
      ]
    },
    {
      "cell_type": "code",
      "execution_count": 1,
      "metadata": {
        "colab": {
          "base_uri": "https://localhost:8080/"
        },
        "id": "3Q_k-5bFGT5G",
        "outputId": "a6769eb1-445d-4553-ee7c-595564e45777"
      },
      "outputs": [
        {
          "output_type": "stream",
          "name": "stdout",
          "text": [
            "Downloading...\n",
            "From: https://drive.google.com/uc?id=1Tv7Q9lKa6ymUeWREcomDAO45EijLoM9P\n",
            "To: /content/MWhite_WL_sims.zip\n",
            "100% 232M/232M [00:06<00:00, 38.1MB/s]\n"
          ]
        }
      ],
      "source": [
        "!gdown 1Tv7Q9lKa6ymUeWREcomDAO45EijLoM9P"
      ]
    },
    {
      "cell_type": "code",
      "source": [
        "!unzip MWhite_WL_sims.zip"
      ],
      "metadata": {
        "colab": {
          "base_uri": "https://localhost:8080/"
        },
        "id": "RBK5zxJScSLw",
        "outputId": "3e6fafa1-6301-4c87-e0b4-73e469d8e656"
      },
      "execution_count": 2,
      "outputs": [
        {
          "output_type": "stream",
          "name": "stdout",
          "text": [
            "Archive:  MWhite_WL_sims.zip\n",
            "   creating: sims/\n",
            "  inflating: sims/gamma_B.4.fits     \n",
            "  inflating: sims/kappa_B.1.fits     \n",
            "  inflating: sims/gamma_A.4.fits     \n",
            "  inflating: sims/kappa_A.8.fits     \n",
            "  inflating: sims/gamma_A.3.fits     \n",
            "  inflating: sims/gamma_A.7.fits     \n",
            "  inflating: sims/kappa_A.5.fits     \n",
            "  inflating: sims/kappa_B.2.fits     \n",
            "  inflating: sims/gamma_B.3.fits     \n",
            "  inflating: sims/kappa_B.5.fits     \n",
            "   creating: sims/.ipynb_checkpoints/\n",
            "  inflating: sims/.ipynb_checkpoints/0_README-checkpoint.txt  \n",
            "  inflating: sims/gamma_A.8.fits     \n",
            "  inflating: sims/kappa_A.7.fits     \n",
            "  inflating: sims/gamma_B.9.fits     \n",
            "  inflating: sims/kappa_A.0.fits     \n",
            "  inflating: sims/gamma_B.7.fits     \n",
            "  inflating: sims/kappa_B.6.fits     \n",
            "  inflating: sims/gamma_B.1.fits     \n",
            "  inflating: sims/gamma_B.0.fits     \n",
            "  inflating: sims/kappa_A.2.fits     \n",
            "  inflating: sims/kappa_A.4.fits     \n",
            "  inflating: sims/gamma_A.9.fits     \n",
            "  inflating: sims/gamma_B.2.fits     \n",
            "  inflating: sims/0_README.txt       \n",
            "  inflating: sims/kappa_B.7.fits     \n",
            "  inflating: sims/kappa_A.3.fits     \n",
            "  inflating: sims/gamma_B.8.fits     \n",
            "  inflating: sims/kappa_B.3.fits     \n",
            "  inflating: sims/gamma_B.5.fits     \n",
            "  inflating: sims/gamma_A.2.fits     \n",
            "  inflating: sims/gamma_A.5.fits     \n",
            "  inflating: sims/gamma_A.1.fits     \n",
            "  inflating: sims/kappa_B.9.fits     \n",
            "  inflating: sims/kappa_B.0.fits     \n",
            "  inflating: sims/kappa_A.1.fits     \n",
            "  inflating: sims/gamma_A.0.fits     \n",
            "  inflating: sims/kappa_A.6.fits     \n",
            "  inflating: sims/gamma_A.6.fits     \n",
            "  inflating: sims/kappa_A.9.fits     \n",
            "  inflating: sims/kappa_B.8.fits     \n",
            "  inflating: sims/kappa_B.4.fits     \n",
            "  inflating: sims/gamma_B.6.fits     \n"
          ]
        }
      ]
    },
    {
      "cell_type": "code",
      "source": [
        "import numpy as np\n",
        "import matplotlib.pyplot as plt\n",
        "from astropy.io import fits\n",
        "import os"
      ],
      "metadata": {
        "id": "SMSQNQpyEA0w"
      },
      "execution_count": 4,
      "outputs": []
    },
    {
      "cell_type": "code",
      "source": [
        "os.chdir('sims')"
      ],
      "metadata": {
        "id": "gP-O66f5e4oq"
      },
      "execution_count": 5,
      "outputs": []
    },
    {
      "cell_type": "code",
      "source": [
        "pip install treecorr"
      ],
      "metadata": {
        "colab": {
          "base_uri": "https://localhost:8080/"
        },
        "id": "reZ_E_RoGl_R",
        "outputId": "786cd8e6-da37-4a6a-9236-6ccaf724e64d"
      },
      "execution_count": 6,
      "outputs": [
        {
          "output_type": "stream",
          "name": "stdout",
          "text": [
            "Looking in indexes: https://pypi.org/simple, https://us-python.pkg.dev/colab-wheels/public/simple/\n",
            "Collecting treecorr\n",
            "  Downloading TreeCorr-4.3.3-cp310-cp310-manylinux_2_17_x86_64.manylinux2014_x86_64.whl (10.8 MB)\n",
            "\u001b[2K     \u001b[90m━━━━━━━━━━━━━━━━━━━━━━━━━━━━━━━━━━━━━━━━\u001b[0m \u001b[32m10.8/10.8 MB\u001b[0m \u001b[31m37.4 MB/s\u001b[0m eta \u001b[36m0:00:00\u001b[0m\n",
            "\u001b[?25hRequirement already satisfied: numpy in /usr/local/lib/python3.10/dist-packages (from treecorr) (1.22.4)\n",
            "Requirement already satisfied: cffi in /usr/local/lib/python3.10/dist-packages (from treecorr) (1.15.1)\n",
            "Requirement already satisfied: pyyaml in /usr/local/lib/python3.10/dist-packages (from treecorr) (6.0)\n",
            "Collecting LSSTDESC.Coord>=1.1 (from treecorr)\n",
            "  Downloading LSSTDESC.Coord-1.3.0-py3-none-any.whl (27 kB)\n",
            "Requirement already satisfied: future in /usr/local/lib/python3.10/dist-packages (from LSSTDESC.Coord>=1.1->treecorr) (0.18.3)\n",
            "Requirement already satisfied: pycparser in /usr/local/lib/python3.10/dist-packages (from cffi->treecorr) (2.21)\n",
            "Installing collected packages: LSSTDESC.Coord, treecorr\n",
            "Successfully installed LSSTDESC.Coord-1.3.0 treecorr-4.3.3\n"
          ]
        }
      ]
    },
    {
      "cell_type": "code",
      "source": [
        "import treecorr"
      ],
      "metadata": {
        "id": "-1d3CMdGGsju"
      },
      "execution_count": 7,
      "outputs": []
    },
    {
      "cell_type": "code",
      "source": [
        "def process_one(cosmostr,numbercat,size_in_degrees,minArcmin,maxArcmin,nbins):\n",
        "\n",
        "\n",
        "    numberstr= str(numbercat)\n",
        "    inputfile= 'gamma_'+cosmostr+'.'+numberstr+'.fits'\n",
        "    outputfile= 'gamma_'+cosmostr+'.'+numberstr+'.txt'\n",
        "\n",
        "    gammaFITS = fits.getdata(inputfile, ext=0)\n",
        "\n",
        "    print('file:',inputfile)\n",
        "    print('file shape is',gammaFITS.shape)\n",
        "    length=gammaFITS.shape[0]\n",
        "\n",
        "    gamma1 = np.zeros(length*length);\n",
        "    gamma2 = np.zeros(length*length);\n",
        "    yT = np.zeros(length*length);\n",
        "    xT = np.zeros(length*length);\n",
        "\n",
        "    tounits=size_in_degrees/length * np.pi/180; # 1 degree = pi/180\n",
        "\n",
        "    nn=0;\n",
        "    for jj in range(length):\n",
        "        for ii in range(length):\n",
        "            gamma1[nn] = gammaFITS[jj,ii,0]\n",
        "            gamma2[nn] = gammaFITS[jj,ii,1]\n",
        "            xT[nn] = ii*tounits\n",
        "            yT[nn] = jj*tounits\n",
        "            nn=nn+1\n",
        "\n",
        "    minRad=minArcmin*np.pi/60/180\n",
        "    maxRad=maxArcmin*np.pi/60/180\n",
        "    #print(\"minRad={:.5}, maxRad={:.5}\".format(minRad,maxRad))\n",
        "\n",
        "\n",
        "    catalogue=treecorr.Catalog(x=xT,y=yT,g1=gamma1,g2=gamma2,x_units=\"rad\",y_units=\"rad\")\n",
        "    GG=treecorr.GGCorrelation(min_sep=minRad,max_sep=maxRad,verbose=2,nbins=nbins)\n",
        "    GG.process(catalogue)\n",
        "\n",
        "    thtArr=np.array(GG.meanr)/np.pi*180*60\n",
        "\n",
        "    # write all\n",
        "    counter =0;\n",
        "    saveto=outputfile\n",
        "    print(saveto)\n",
        "    header='1.theta[arcmin] 2.xiplus 3.ximinus 4.npairsinbin\\n'\n",
        "    with open(saveto, 'w') as file:\n",
        "        file.write(header)\n",
        "        for entry1, entry2, entry3, entry4 in zip(thtArr, GG.xip, GG.xim, GG.npairs):\n",
        "            file.write(f\"{entry1}\\t{entry2}\\t{entry3}\\t{entry4}\\n\")\n",
        "            counter +=1\n",
        "\n",
        "\n",
        "    return thtArr, GG.xip, GG.xim, GG.npairs"
      ],
      "metadata": {
        "id": "RjKna6CtGyCS"
      },
      "execution_count": 8,
      "outputs": []
    },
    {
      "cell_type": "code",
      "source": [
        "for numbercat in range(10):\n",
        "    process_one('A',numbercat,2,1,60,10)"
      ],
      "metadata": {
        "colab": {
          "base_uri": "https://localhost:8080/"
        },
        "id": "Qyylfor5ICB7",
        "outputId": "4dcd7f91-3d6e-4b67-b0c9-4685a9a04c87"
      },
      "execution_count": 9,
      "outputs": [
        {
          "output_type": "stream",
          "name": "stdout",
          "text": [
            "file: gamma_A.0.fits\n",
            "file shape is (1024, 1024, 2)\n",
            "nbins = 10, min,max sep = 0.000290888..0.0174533, bin_size = 0.409434\n"
          ]
        },
        {
          "output_type": "stream",
          "name": "stderr",
          "text": [
            "INFO:treecorr:nbins = 10, min,max sep = 0.000290888..0.0174533, bin_size = 0.409434\n"
          ]
        },
        {
          "output_type": "stream",
          "name": "stdout",
          "text": [
            "Starting process GG auto-correlations\n"
          ]
        },
        {
          "output_type": "stream",
          "name": "stderr",
          "text": [
            "INFO:treecorr:Starting process GG auto-correlations\n"
          ]
        },
        {
          "output_type": "stream",
          "name": "stdout",
          "text": [
            "Using 2 threads.\n"
          ]
        },
        {
          "output_type": "stream",
          "name": "stderr",
          "text": [
            "INFO:treecorr:Using 2 threads.\n"
          ]
        },
        {
          "output_type": "stream",
          "name": "stdout",
          "text": [
            "Building GField\n"
          ]
        },
        {
          "output_type": "stream",
          "name": "stderr",
          "text": [
            "INFO:treecorr:Building GField\n"
          ]
        },
        {
          "output_type": "stream",
          "name": "stdout",
          "text": [
            "Starting 256 jobs.\n"
          ]
        },
        {
          "output_type": "stream",
          "name": "stderr",
          "text": [
            "INFO:treecorr:Starting 256 jobs.\n"
          ]
        },
        {
          "output_type": "stream",
          "name": "stdout",
          "text": [
            "varg = 0.000354: sig_sn (per component) = 0.018827\n"
          ]
        },
        {
          "output_type": "stream",
          "name": "stderr",
          "text": [
            "INFO:treecorr:varg = 0.000354: sig_sn (per component) = 0.018827\n"
          ]
        },
        {
          "output_type": "stream",
          "name": "stdout",
          "text": [
            "gamma_A.0.txt\n",
            "file: gamma_A.1.fits\n",
            "file shape is (1024, 1024, 2)\n",
            "nbins = 10, min,max sep = 0.000290888..0.0174533, bin_size = 0.409434\n"
          ]
        },
        {
          "output_type": "stream",
          "name": "stderr",
          "text": [
            "INFO:treecorr:nbins = 10, min,max sep = 0.000290888..0.0174533, bin_size = 0.409434\n"
          ]
        },
        {
          "output_type": "stream",
          "name": "stdout",
          "text": [
            "Starting process GG auto-correlations\n"
          ]
        },
        {
          "output_type": "stream",
          "name": "stderr",
          "text": [
            "INFO:treecorr:Starting process GG auto-correlations\n"
          ]
        },
        {
          "output_type": "stream",
          "name": "stdout",
          "text": [
            "Using 2 threads.\n"
          ]
        },
        {
          "output_type": "stream",
          "name": "stderr",
          "text": [
            "INFO:treecorr:Using 2 threads.\n"
          ]
        },
        {
          "output_type": "stream",
          "name": "stdout",
          "text": [
            "Building GField\n"
          ]
        },
        {
          "output_type": "stream",
          "name": "stderr",
          "text": [
            "INFO:treecorr:Building GField\n"
          ]
        },
        {
          "output_type": "stream",
          "name": "stdout",
          "text": [
            "Starting 256 jobs.\n"
          ]
        },
        {
          "output_type": "stream",
          "name": "stderr",
          "text": [
            "INFO:treecorr:Starting 256 jobs.\n"
          ]
        },
        {
          "output_type": "stream",
          "name": "stdout",
          "text": [
            "varg = 0.000406: sig_sn (per component) = 0.020139\n"
          ]
        },
        {
          "output_type": "stream",
          "name": "stderr",
          "text": [
            "INFO:treecorr:varg = 0.000406: sig_sn (per component) = 0.020139\n"
          ]
        },
        {
          "output_type": "stream",
          "name": "stdout",
          "text": [
            "gamma_A.1.txt\n",
            "file: gamma_A.2.fits\n",
            "file shape is (1024, 1024, 2)\n",
            "nbins = 10, min,max sep = 0.000290888..0.0174533, bin_size = 0.409434\n"
          ]
        },
        {
          "output_type": "stream",
          "name": "stderr",
          "text": [
            "INFO:treecorr:nbins = 10, min,max sep = 0.000290888..0.0174533, bin_size = 0.409434\n"
          ]
        },
        {
          "output_type": "stream",
          "name": "stdout",
          "text": [
            "Starting process GG auto-correlations\n"
          ]
        },
        {
          "output_type": "stream",
          "name": "stderr",
          "text": [
            "INFO:treecorr:Starting process GG auto-correlations\n"
          ]
        },
        {
          "output_type": "stream",
          "name": "stdout",
          "text": [
            "Using 2 threads.\n"
          ]
        },
        {
          "output_type": "stream",
          "name": "stderr",
          "text": [
            "INFO:treecorr:Using 2 threads.\n"
          ]
        },
        {
          "output_type": "stream",
          "name": "stdout",
          "text": [
            "Building GField\n"
          ]
        },
        {
          "output_type": "stream",
          "name": "stderr",
          "text": [
            "INFO:treecorr:Building GField\n"
          ]
        },
        {
          "output_type": "stream",
          "name": "stdout",
          "text": [
            "Starting 256 jobs.\n"
          ]
        },
        {
          "output_type": "stream",
          "name": "stderr",
          "text": [
            "INFO:treecorr:Starting 256 jobs.\n"
          ]
        },
        {
          "output_type": "stream",
          "name": "stdout",
          "text": [
            "varg = 0.000519: sig_sn (per component) = 0.022777\n"
          ]
        },
        {
          "output_type": "stream",
          "name": "stderr",
          "text": [
            "INFO:treecorr:varg = 0.000519: sig_sn (per component) = 0.022777\n"
          ]
        },
        {
          "output_type": "stream",
          "name": "stdout",
          "text": [
            "gamma_A.2.txt\n",
            "file: gamma_A.3.fits\n",
            "file shape is (1024, 1024, 2)\n",
            "nbins = 10, min,max sep = 0.000290888..0.0174533, bin_size = 0.409434\n"
          ]
        },
        {
          "output_type": "stream",
          "name": "stderr",
          "text": [
            "INFO:treecorr:nbins = 10, min,max sep = 0.000290888..0.0174533, bin_size = 0.409434\n"
          ]
        },
        {
          "output_type": "stream",
          "name": "stdout",
          "text": [
            "Starting process GG auto-correlations\n"
          ]
        },
        {
          "output_type": "stream",
          "name": "stderr",
          "text": [
            "INFO:treecorr:Starting process GG auto-correlations\n"
          ]
        },
        {
          "output_type": "stream",
          "name": "stdout",
          "text": [
            "Using 2 threads.\n"
          ]
        },
        {
          "output_type": "stream",
          "name": "stderr",
          "text": [
            "INFO:treecorr:Using 2 threads.\n"
          ]
        },
        {
          "output_type": "stream",
          "name": "stdout",
          "text": [
            "Building GField\n"
          ]
        },
        {
          "output_type": "stream",
          "name": "stderr",
          "text": [
            "INFO:treecorr:Building GField\n"
          ]
        },
        {
          "output_type": "stream",
          "name": "stdout",
          "text": [
            "Starting 256 jobs.\n"
          ]
        },
        {
          "output_type": "stream",
          "name": "stderr",
          "text": [
            "INFO:treecorr:Starting 256 jobs.\n"
          ]
        },
        {
          "output_type": "stream",
          "name": "stdout",
          "text": [
            "varg = 0.000383: sig_sn (per component) = 0.019572\n"
          ]
        },
        {
          "output_type": "stream",
          "name": "stderr",
          "text": [
            "INFO:treecorr:varg = 0.000383: sig_sn (per component) = 0.019572\n"
          ]
        },
        {
          "output_type": "stream",
          "name": "stdout",
          "text": [
            "gamma_A.3.txt\n",
            "file: gamma_A.4.fits\n",
            "file shape is (1024, 1024, 2)\n",
            "nbins = 10, min,max sep = 0.000290888..0.0174533, bin_size = 0.409434\n"
          ]
        },
        {
          "output_type": "stream",
          "name": "stderr",
          "text": [
            "INFO:treecorr:nbins = 10, min,max sep = 0.000290888..0.0174533, bin_size = 0.409434\n"
          ]
        },
        {
          "output_type": "stream",
          "name": "stdout",
          "text": [
            "Starting process GG auto-correlations\n"
          ]
        },
        {
          "output_type": "stream",
          "name": "stderr",
          "text": [
            "INFO:treecorr:Starting process GG auto-correlations\n"
          ]
        },
        {
          "output_type": "stream",
          "name": "stdout",
          "text": [
            "Using 2 threads.\n"
          ]
        },
        {
          "output_type": "stream",
          "name": "stderr",
          "text": [
            "INFO:treecorr:Using 2 threads.\n"
          ]
        },
        {
          "output_type": "stream",
          "name": "stdout",
          "text": [
            "Building GField\n"
          ]
        },
        {
          "output_type": "stream",
          "name": "stderr",
          "text": [
            "INFO:treecorr:Building GField\n"
          ]
        },
        {
          "output_type": "stream",
          "name": "stdout",
          "text": [
            "Starting 256 jobs.\n"
          ]
        },
        {
          "output_type": "stream",
          "name": "stderr",
          "text": [
            "INFO:treecorr:Starting 256 jobs.\n"
          ]
        },
        {
          "output_type": "stream",
          "name": "stdout",
          "text": [
            "varg = 0.000464: sig_sn (per component) = 0.021551\n"
          ]
        },
        {
          "output_type": "stream",
          "name": "stderr",
          "text": [
            "INFO:treecorr:varg = 0.000464: sig_sn (per component) = 0.021551\n"
          ]
        },
        {
          "output_type": "stream",
          "name": "stdout",
          "text": [
            "gamma_A.4.txt\n",
            "file: gamma_A.5.fits\n",
            "file shape is (1024, 1024, 2)\n",
            "nbins = 10, min,max sep = 0.000290888..0.0174533, bin_size = 0.409434\n"
          ]
        },
        {
          "output_type": "stream",
          "name": "stderr",
          "text": [
            "INFO:treecorr:nbins = 10, min,max sep = 0.000290888..0.0174533, bin_size = 0.409434\n"
          ]
        },
        {
          "output_type": "stream",
          "name": "stdout",
          "text": [
            "Starting process GG auto-correlations\n"
          ]
        },
        {
          "output_type": "stream",
          "name": "stderr",
          "text": [
            "INFO:treecorr:Starting process GG auto-correlations\n"
          ]
        },
        {
          "output_type": "stream",
          "name": "stdout",
          "text": [
            "Using 2 threads.\n"
          ]
        },
        {
          "output_type": "stream",
          "name": "stderr",
          "text": [
            "INFO:treecorr:Using 2 threads.\n"
          ]
        },
        {
          "output_type": "stream",
          "name": "stdout",
          "text": [
            "Building GField\n"
          ]
        },
        {
          "output_type": "stream",
          "name": "stderr",
          "text": [
            "INFO:treecorr:Building GField\n"
          ]
        },
        {
          "output_type": "stream",
          "name": "stdout",
          "text": [
            "Starting 256 jobs.\n"
          ]
        },
        {
          "output_type": "stream",
          "name": "stderr",
          "text": [
            "INFO:treecorr:Starting 256 jobs.\n"
          ]
        },
        {
          "output_type": "stream",
          "name": "stdout",
          "text": [
            "varg = 0.000532: sig_sn (per component) = 0.023064\n"
          ]
        },
        {
          "output_type": "stream",
          "name": "stderr",
          "text": [
            "INFO:treecorr:varg = 0.000532: sig_sn (per component) = 0.023064\n"
          ]
        },
        {
          "output_type": "stream",
          "name": "stdout",
          "text": [
            "gamma_A.5.txt\n",
            "file: gamma_A.6.fits\n",
            "file shape is (1024, 1024, 2)\n",
            "nbins = 10, min,max sep = 0.000290888..0.0174533, bin_size = 0.409434\n"
          ]
        },
        {
          "output_type": "stream",
          "name": "stderr",
          "text": [
            "INFO:treecorr:nbins = 10, min,max sep = 0.000290888..0.0174533, bin_size = 0.409434\n"
          ]
        },
        {
          "output_type": "stream",
          "name": "stdout",
          "text": [
            "Starting process GG auto-correlations\n"
          ]
        },
        {
          "output_type": "stream",
          "name": "stderr",
          "text": [
            "INFO:treecorr:Starting process GG auto-correlations\n"
          ]
        },
        {
          "output_type": "stream",
          "name": "stdout",
          "text": [
            "Using 2 threads.\n"
          ]
        },
        {
          "output_type": "stream",
          "name": "stderr",
          "text": [
            "INFO:treecorr:Using 2 threads.\n"
          ]
        },
        {
          "output_type": "stream",
          "name": "stdout",
          "text": [
            "Building GField\n"
          ]
        },
        {
          "output_type": "stream",
          "name": "stderr",
          "text": [
            "INFO:treecorr:Building GField\n"
          ]
        },
        {
          "output_type": "stream",
          "name": "stdout",
          "text": [
            "Starting 256 jobs.\n"
          ]
        },
        {
          "output_type": "stream",
          "name": "stderr",
          "text": [
            "INFO:treecorr:Starting 256 jobs.\n"
          ]
        },
        {
          "output_type": "stream",
          "name": "stdout",
          "text": [
            "varg = 0.000454: sig_sn (per component) = 0.021310\n"
          ]
        },
        {
          "output_type": "stream",
          "name": "stderr",
          "text": [
            "INFO:treecorr:varg = 0.000454: sig_sn (per component) = 0.021310\n"
          ]
        },
        {
          "output_type": "stream",
          "name": "stdout",
          "text": [
            "gamma_A.6.txt\n",
            "file: gamma_A.7.fits\n",
            "file shape is (1024, 1024, 2)\n",
            "nbins = 10, min,max sep = 0.000290888..0.0174533, bin_size = 0.409434\n"
          ]
        },
        {
          "output_type": "stream",
          "name": "stderr",
          "text": [
            "INFO:treecorr:nbins = 10, min,max sep = 0.000290888..0.0174533, bin_size = 0.409434\n"
          ]
        },
        {
          "output_type": "stream",
          "name": "stdout",
          "text": [
            "Starting process GG auto-correlations\n"
          ]
        },
        {
          "output_type": "stream",
          "name": "stderr",
          "text": [
            "INFO:treecorr:Starting process GG auto-correlations\n"
          ]
        },
        {
          "output_type": "stream",
          "name": "stdout",
          "text": [
            "Using 2 threads.\n"
          ]
        },
        {
          "output_type": "stream",
          "name": "stderr",
          "text": [
            "INFO:treecorr:Using 2 threads.\n"
          ]
        },
        {
          "output_type": "stream",
          "name": "stdout",
          "text": [
            "Building GField\n"
          ]
        },
        {
          "output_type": "stream",
          "name": "stderr",
          "text": [
            "INFO:treecorr:Building GField\n"
          ]
        },
        {
          "output_type": "stream",
          "name": "stdout",
          "text": [
            "Starting 256 jobs.\n"
          ]
        },
        {
          "output_type": "stream",
          "name": "stderr",
          "text": [
            "INFO:treecorr:Starting 256 jobs.\n"
          ]
        },
        {
          "output_type": "stream",
          "name": "stdout",
          "text": [
            "varg = 0.000384: sig_sn (per component) = 0.019595\n"
          ]
        },
        {
          "output_type": "stream",
          "name": "stderr",
          "text": [
            "INFO:treecorr:varg = 0.000384: sig_sn (per component) = 0.019595\n"
          ]
        },
        {
          "output_type": "stream",
          "name": "stdout",
          "text": [
            "gamma_A.7.txt\n",
            "file: gamma_A.8.fits\n",
            "file shape is (1024, 1024, 2)\n",
            "nbins = 10, min,max sep = 0.000290888..0.0174533, bin_size = 0.409434\n"
          ]
        },
        {
          "output_type": "stream",
          "name": "stderr",
          "text": [
            "INFO:treecorr:nbins = 10, min,max sep = 0.000290888..0.0174533, bin_size = 0.409434\n"
          ]
        },
        {
          "output_type": "stream",
          "name": "stdout",
          "text": [
            "Starting process GG auto-correlations\n"
          ]
        },
        {
          "output_type": "stream",
          "name": "stderr",
          "text": [
            "INFO:treecorr:Starting process GG auto-correlations\n"
          ]
        },
        {
          "output_type": "stream",
          "name": "stdout",
          "text": [
            "Using 2 threads.\n"
          ]
        },
        {
          "output_type": "stream",
          "name": "stderr",
          "text": [
            "INFO:treecorr:Using 2 threads.\n"
          ]
        },
        {
          "output_type": "stream",
          "name": "stdout",
          "text": [
            "Building GField\n"
          ]
        },
        {
          "output_type": "stream",
          "name": "stderr",
          "text": [
            "INFO:treecorr:Building GField\n"
          ]
        },
        {
          "output_type": "stream",
          "name": "stdout",
          "text": [
            "Starting 256 jobs.\n"
          ]
        },
        {
          "output_type": "stream",
          "name": "stderr",
          "text": [
            "INFO:treecorr:Starting 256 jobs.\n"
          ]
        },
        {
          "output_type": "stream",
          "name": "stdout",
          "text": [
            "varg = 0.000335: sig_sn (per component) = 0.018315\n"
          ]
        },
        {
          "output_type": "stream",
          "name": "stderr",
          "text": [
            "INFO:treecorr:varg = 0.000335: sig_sn (per component) = 0.018315\n"
          ]
        },
        {
          "output_type": "stream",
          "name": "stdout",
          "text": [
            "gamma_A.8.txt\n",
            "file: gamma_A.9.fits\n",
            "file shape is (1024, 1024, 2)\n",
            "nbins = 10, min,max sep = 0.000290888..0.0174533, bin_size = 0.409434\n"
          ]
        },
        {
          "output_type": "stream",
          "name": "stderr",
          "text": [
            "INFO:treecorr:nbins = 10, min,max sep = 0.000290888..0.0174533, bin_size = 0.409434\n"
          ]
        },
        {
          "output_type": "stream",
          "name": "stdout",
          "text": [
            "Starting process GG auto-correlations\n"
          ]
        },
        {
          "output_type": "stream",
          "name": "stderr",
          "text": [
            "INFO:treecorr:Starting process GG auto-correlations\n"
          ]
        },
        {
          "output_type": "stream",
          "name": "stdout",
          "text": [
            "Using 2 threads.\n"
          ]
        },
        {
          "output_type": "stream",
          "name": "stderr",
          "text": [
            "INFO:treecorr:Using 2 threads.\n"
          ]
        },
        {
          "output_type": "stream",
          "name": "stdout",
          "text": [
            "Building GField\n"
          ]
        },
        {
          "output_type": "stream",
          "name": "stderr",
          "text": [
            "INFO:treecorr:Building GField\n"
          ]
        },
        {
          "output_type": "stream",
          "name": "stdout",
          "text": [
            "Starting 256 jobs.\n"
          ]
        },
        {
          "output_type": "stream",
          "name": "stderr",
          "text": [
            "INFO:treecorr:Starting 256 jobs.\n"
          ]
        },
        {
          "output_type": "stream",
          "name": "stdout",
          "text": [
            "varg = 0.000356: sig_sn (per component) = 0.018866\n"
          ]
        },
        {
          "output_type": "stream",
          "name": "stderr",
          "text": [
            "INFO:treecorr:varg = 0.000356: sig_sn (per component) = 0.018866\n"
          ]
        },
        {
          "output_type": "stream",
          "name": "stdout",
          "text": [
            "gamma_A.9.txt\n"
          ]
        }
      ]
    },
    {
      "cell_type": "code",
      "source": [
        "process_one('B',0,2,1,60,10)"
      ],
      "metadata": {
        "colab": {
          "base_uri": "https://localhost:8080/"
        },
        "id": "dN5TwJ5PKUIw",
        "outputId": "72c226aa-4e9c-497c-ef2e-7265fcbab96f"
      },
      "execution_count": 10,
      "outputs": [
        {
          "output_type": "stream",
          "name": "stdout",
          "text": [
            "file: gamma_B.0.fits\n",
            "file shape is (1024, 1024, 2)\n",
            "nbins = 10, min,max sep = 0.000290888..0.0174533, bin_size = 0.409434\n"
          ]
        },
        {
          "output_type": "stream",
          "name": "stderr",
          "text": [
            "INFO:treecorr:nbins = 10, min,max sep = 0.000290888..0.0174533, bin_size = 0.409434\n"
          ]
        },
        {
          "output_type": "stream",
          "name": "stdout",
          "text": [
            "Starting process GG auto-correlations\n"
          ]
        },
        {
          "output_type": "stream",
          "name": "stderr",
          "text": [
            "INFO:treecorr:Starting process GG auto-correlations\n"
          ]
        },
        {
          "output_type": "stream",
          "name": "stdout",
          "text": [
            "Using 2 threads.\n"
          ]
        },
        {
          "output_type": "stream",
          "name": "stderr",
          "text": [
            "INFO:treecorr:Using 2 threads.\n"
          ]
        },
        {
          "output_type": "stream",
          "name": "stdout",
          "text": [
            "Building GField\n"
          ]
        },
        {
          "output_type": "stream",
          "name": "stderr",
          "text": [
            "INFO:treecorr:Building GField\n"
          ]
        },
        {
          "output_type": "stream",
          "name": "stdout",
          "text": [
            "Starting 256 jobs.\n"
          ]
        },
        {
          "output_type": "stream",
          "name": "stderr",
          "text": [
            "INFO:treecorr:Starting 256 jobs.\n"
          ]
        },
        {
          "output_type": "stream",
          "name": "stdout",
          "text": [
            "varg = 0.000272: sig_sn (per component) = 0.016502\n"
          ]
        },
        {
          "output_type": "stream",
          "name": "stderr",
          "text": [
            "INFO:treecorr:varg = 0.000272: sig_sn (per component) = 0.016502\n"
          ]
        },
        {
          "output_type": "stream",
          "name": "stdout",
          "text": [
            "gamma_B.0.txt\n"
          ]
        },
        {
          "output_type": "execute_result",
          "data": {
            "text/plain": [
              "(array([ 1.27790787,  1.91628783,  2.89006986,  4.3272716 ,  6.51742622,\n",
              "         9.845097  , 14.83354816, 22.21270463, 33.38366049, 49.90964392]),\n",
              " array([2.19617209e-04, 1.59140036e-04, 1.10126986e-04, 7.71611441e-05,\n",
              "        5.34265196e-05, 4.00535324e-05, 3.47262488e-05, 2.73819865e-05,\n",
              "        1.26433175e-05, 1.97335867e-06]),\n",
              " array([-1.30020461e-06, -5.57604779e-07,  7.82823656e-07,  1.55251593e-07,\n",
              "        -2.06026322e-07,  4.24280530e-07,  7.84852980e-07,  4.84431762e-07,\n",
              "        -2.57896913e-06, -2.97713037e-06]),\n",
              " array([1.59999300e+08, 3.28748752e+08, 7.75693616e+08, 1.64243379e+09,\n",
              "        3.79528320e+09, 8.26174438e+09, 1.76862413e+10, 3.57194220e+10,\n",
              "        7.19928689e+10, 1.23286716e+11]))"
            ]
          },
          "metadata": {},
          "execution_count": 10
        }
      ]
    },
    {
      "cell_type": "code",
      "source": [
        "process_one('B',9,2,1,60,10)"
      ],
      "metadata": {
        "colab": {
          "base_uri": "https://localhost:8080/"
        },
        "id": "Mv36Lw57KUpz",
        "outputId": "3c9d3a46-0c57-4a05-cc39-857dfdc4e42a"
      },
      "execution_count": 11,
      "outputs": [
        {
          "output_type": "stream",
          "name": "stdout",
          "text": [
            "file: gamma_B.9.fits\n",
            "file shape is (1024, 1024, 2)\n",
            "nbins = 10, min,max sep = 0.000290888..0.0174533, bin_size = 0.409434\n"
          ]
        },
        {
          "output_type": "stream",
          "name": "stderr",
          "text": [
            "INFO:treecorr:nbins = 10, min,max sep = 0.000290888..0.0174533, bin_size = 0.409434\n"
          ]
        },
        {
          "output_type": "stream",
          "name": "stdout",
          "text": [
            "Starting process GG auto-correlations\n"
          ]
        },
        {
          "output_type": "stream",
          "name": "stderr",
          "text": [
            "INFO:treecorr:Starting process GG auto-correlations\n"
          ]
        },
        {
          "output_type": "stream",
          "name": "stdout",
          "text": [
            "Using 2 threads.\n"
          ]
        },
        {
          "output_type": "stream",
          "name": "stderr",
          "text": [
            "INFO:treecorr:Using 2 threads.\n"
          ]
        },
        {
          "output_type": "stream",
          "name": "stdout",
          "text": [
            "Building GField\n"
          ]
        },
        {
          "output_type": "stream",
          "name": "stderr",
          "text": [
            "INFO:treecorr:Building GField\n"
          ]
        },
        {
          "output_type": "stream",
          "name": "stdout",
          "text": [
            "Starting 256 jobs.\n"
          ]
        },
        {
          "output_type": "stream",
          "name": "stderr",
          "text": [
            "INFO:treecorr:Starting 256 jobs.\n"
          ]
        },
        {
          "output_type": "stream",
          "name": "stdout",
          "text": [
            "varg = 0.000242: sig_sn (per component) = 0.015572\n"
          ]
        },
        {
          "output_type": "stream",
          "name": "stderr",
          "text": [
            "INFO:treecorr:varg = 0.000242: sig_sn (per component) = 0.015572\n"
          ]
        },
        {
          "output_type": "stream",
          "name": "stdout",
          "text": [
            "gamma_B.9.txt\n"
          ]
        },
        {
          "output_type": "execute_result",
          "data": {
            "text/plain": [
              "(array([ 1.27790787,  1.91628783,  2.89006986,  4.3272716 ,  6.51742622,\n",
              "         9.845097  , 14.83354816, 22.21270463, 33.38366049, 49.90964392]),\n",
              " array([1.84880444e-04, 1.30828777e-04, 8.74204603e-05, 5.71287972e-05,\n",
              "        3.77433547e-05, 2.68551162e-05, 1.48712716e-05, 9.44287397e-06,\n",
              "        5.66122702e-06, 3.69687173e-06]),\n",
              " array([-9.98002000e-08, -8.30426461e-07,  8.59304733e-07, -1.47980443e-06,\n",
              "         6.95621774e-07,  4.97048720e-07, -5.48542353e-08, -3.34122901e-06,\n",
              "        -6.31746025e-07,  5.25990847e-07]),\n",
              " array([1.59999300e+08, 3.28748752e+08, 7.75693616e+08, 1.64243379e+09,\n",
              "        3.79528320e+09, 8.26174438e+09, 1.76862413e+10, 3.57194220e+10,\n",
              "        7.19928689e+10, 1.23286716e+11]))"
            ]
          },
          "metadata": {},
          "execution_count": 11
        }
      ]
    }
  ]
}