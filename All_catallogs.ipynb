{
  "nbformat": 4,
  "nbformat_minor": 0,
  "metadata": {
    "colab": {
      "provenance": [],
      "authorship_tag": "ABX9TyOzH6XjW8/Wyn7g13BwmydB",
      "include_colab_link": true
    },
    "kernelspec": {
      "name": "python3",
      "display_name": "Python 3"
    },
    "language_info": {
      "name": "python"
    }
  },
  "cells": [
    {
      "cell_type": "markdown",
      "metadata": {
        "id": "view-in-github",
        "colab_type": "text"
      },
      "source": [
        "<a href=\"https://colab.research.google.com/github/alejandroaviles/WL_MACSS-2023/blob/main/All_catallogs.ipynb\" target=\"_parent\"><img src=\"https://colab.research.google.com/assets/colab-badge.svg\" alt=\"Open In Colab\"/></a>"
      ]
    },
    {
      "cell_type": "code",
      "execution_count": 30,
      "metadata": {
        "colab": {
          "base_uri": "https://localhost:8080/"
        },
        "id": "3Q_k-5bFGT5G",
        "outputId": "39d8f76f-c507-49d5-ec50-df8f0587acb0"
      },
      "outputs": [
        {
          "output_type": "stream",
          "name": "stdout",
          "text": [
            "Cloning into 'WL_MACSS-2023'...\n",
            "remote: Enumerating objects: 174, done.\u001b[K\n",
            "remote: Counting objects: 100% (48/48), done.\u001b[K\n",
            "remote: Compressing objects: 100% (48/48), done.\u001b[K\n",
            "remote: Total 174 (delta 16), reused 0 (delta 0), pack-reused 126\u001b[K\n",
            "Receiving objects: 100% (174/174), 70.79 MiB | 16.33 MiB/s, done.\n",
            "Resolving deltas: 100% (89/89), done.\n"
          ]
        }
      ],
      "source": [
        "!git clone https://github.com/alejandroaviles/WL_MACSS-2023.git"
      ]
    },
    {
      "cell_type": "code",
      "source": [
        "pip install treecorr"
      ],
      "metadata": {
        "colab": {
          "base_uri": "https://localhost:8080/"
        },
        "id": "reZ_E_RoGl_R",
        "outputId": "806cfabe-34c0-41ec-c8df-79dae3fda1d0"
      },
      "execution_count": 31,
      "outputs": [
        {
          "output_type": "stream",
          "name": "stdout",
          "text": [
            "Looking in indexes: https://pypi.org/simple, https://us-python.pkg.dev/colab-wheels/public/simple/\n",
            "Requirement already satisfied: treecorr in /usr/local/lib/python3.10/dist-packages (4.3.3)\n",
            "Requirement already satisfied: numpy in /usr/local/lib/python3.10/dist-packages (from treecorr) (1.22.4)\n",
            "Requirement already satisfied: cffi in /usr/local/lib/python3.10/dist-packages (from treecorr) (1.15.1)\n",
            "Requirement already satisfied: pyyaml in /usr/local/lib/python3.10/dist-packages (from treecorr) (6.0)\n",
            "Requirement already satisfied: LSSTDESC.Coord>=1.1 in /usr/local/lib/python3.10/dist-packages (from treecorr) (1.3.0)\n",
            "Requirement already satisfied: future in /usr/local/lib/python3.10/dist-packages (from LSSTDESC.Coord>=1.1->treecorr) (0.18.3)\n",
            "Requirement already satisfied: pycparser in /usr/local/lib/python3.10/dist-packages (from cffi->treecorr) (2.21)\n"
          ]
        }
      ]
    },
    {
      "cell_type": "code",
      "source": [
        "import numpy as np\n",
        "import matplotlib.pyplot as plt\n",
        "from astropy.io import fits\n",
        "import os\n",
        "import treecorr"
      ],
      "metadata": {
        "id": "-1d3CMdGGsju"
      },
      "execution_count": 32,
      "outputs": []
    },
    {
      "cell_type": "code",
      "source": [
        "os.chdir('WL_MACSS-2023')"
      ],
      "metadata": {
        "id": "GGPHUN_6G6xE"
      },
      "execution_count": 33,
      "outputs": []
    },
    {
      "cell_type": "code",
      "source": [
        "def process_one(cosmostr,numbercat,size_in_degrees,minArcmin,maxArcmin,nbins):\n",
        "\n",
        "\n",
        "    numberstr= str(numbercat)\n",
        "    inputfile= 'gamma_'+cosmostr+'.'+numberstr+'.fits'\n",
        "    outputfile= 'gamma_'+cosmostr+'.'+numberstr+'.txt'\n",
        "\n",
        "    gammaFITS = fits.getdata(inputfile, ext=0)\n",
        "\n",
        "    print('file:',inputfile)\n",
        "    print('file shape is',gammaFITS.shape)\n",
        "    length=gammaFITS.shape[0]\n",
        "\n",
        "    gamma1 = np.zeros(length*length);\n",
        "    gamma2 = np.zeros(length*length);\n",
        "    yT = np.zeros(length*length);\n",
        "    xT = np.zeros(length*length);\n",
        "\n",
        "    tounits=size_in_degrees/length * np.pi/180; # 1 degree = pi/180\n",
        "\n",
        "    nn=0;\n",
        "    for jj in range(length):\n",
        "        for ii in range(length):\n",
        "            gamma1[nn] = gammaFITS[jj,ii,0]\n",
        "            gamma2[nn] = gammaFITS[jj,ii,1]\n",
        "            xT[nn] = ii*tounits\n",
        "            yT[nn] = jj*tounits\n",
        "            nn=nn+1\n",
        "\n",
        "    minRad=minArcmin*np.pi/60/180\n",
        "    maxRad=maxArcmin*np.pi/60/180\n",
        "    #print(\"minRad={:.5}, maxRad={:.5}\".format(minRad,maxRad))\n",
        "\n",
        "\n",
        "    catalogue=treecorr.Catalog(x=xT,y=yT,g1=gamma1,g2=gamma2,x_units=\"rad\",y_units=\"rad\")\n",
        "    GG=treecorr.GGCorrelation(min_sep=minRad,max_sep=maxRad,verbose=2,nbins=nbins)\n",
        "    GG.process(catalogue)\n",
        "\n",
        "    thtArr=np.array(GG.meanr)/np.pi*180*60\n",
        "\n",
        "    # write all\n",
        "    counter =0;\n",
        "    saveto=outputfile\n",
        "    print(saveto)\n",
        "    header='1.theta[arcmin] 2.xiplus 3.ximinus 4.npairsinbin\\n'\n",
        "    with open(saveto, 'w') as file:\n",
        "        file.write(header)\n",
        "        for entry1, entry2, entry3, entry4 in zip(thtArr, GG.xip, GG.xim, GG.npairs):\n",
        "            file.write(f\"{entry1}\\t{entry2}\\t{entry3}\\t{entry4}\\n\")\n",
        "            counter +=1\n",
        "\n",
        "\n",
        "    return thtArr, GG.xip, GG.xim, GG.npairs"
      ],
      "metadata": {
        "id": "RjKna6CtGyCS"
      },
      "execution_count": 34,
      "outputs": []
    },
    {
      "cell_type": "code",
      "source": [
        "for numbercat in range(4):\n",
        "    process_one('A',numbercat,2,1,60,10)"
      ],
      "metadata": {
        "colab": {
          "base_uri": "https://localhost:8080/"
        },
        "id": "Qyylfor5ICB7",
        "outputId": "1254b32c-b5cd-41e5-eda7-3eaec3aea235"
      },
      "execution_count": 35,
      "outputs": [
        {
          "output_type": "stream",
          "name": "stdout",
          "text": [
            "file: gamma_A.0.fits\n",
            "file shape is (1024, 1024, 2)\n",
            "nbins = 10, min,max sep = 0.000290888..0.0174533, bin_size = 0.409434\n"
          ]
        },
        {
          "output_type": "stream",
          "name": "stderr",
          "text": [
            "INFO:treecorr:nbins = 10, min,max sep = 0.000290888..0.0174533, bin_size = 0.409434\n"
          ]
        },
        {
          "output_type": "stream",
          "name": "stdout",
          "text": [
            "Starting process GG auto-correlations\n"
          ]
        },
        {
          "output_type": "stream",
          "name": "stderr",
          "text": [
            "INFO:treecorr:Starting process GG auto-correlations\n"
          ]
        },
        {
          "output_type": "stream",
          "name": "stdout",
          "text": [
            "Using 2 threads.\n"
          ]
        },
        {
          "output_type": "stream",
          "name": "stderr",
          "text": [
            "INFO:treecorr:Using 2 threads.\n"
          ]
        },
        {
          "output_type": "stream",
          "name": "stdout",
          "text": [
            "Building GField\n"
          ]
        },
        {
          "output_type": "stream",
          "name": "stderr",
          "text": [
            "INFO:treecorr:Building GField\n"
          ]
        },
        {
          "output_type": "stream",
          "name": "stdout",
          "text": [
            "Starting 256 jobs.\n"
          ]
        },
        {
          "output_type": "stream",
          "name": "stderr",
          "text": [
            "INFO:treecorr:Starting 256 jobs.\n"
          ]
        },
        {
          "output_type": "stream",
          "name": "stdout",
          "text": [
            "varg = 0.000354: sig_sn (per component) = 0.018827\n"
          ]
        },
        {
          "output_type": "stream",
          "name": "stderr",
          "text": [
            "INFO:treecorr:varg = 0.000354: sig_sn (per component) = 0.018827\n"
          ]
        },
        {
          "output_type": "stream",
          "name": "stdout",
          "text": [
            "gamma_A.0.txt\n",
            "file: gamma_A.1.fits\n",
            "file shape is (1024, 1024, 2)\n",
            "nbins = 10, min,max sep = 0.000290888..0.0174533, bin_size = 0.409434\n"
          ]
        },
        {
          "output_type": "stream",
          "name": "stderr",
          "text": [
            "INFO:treecorr:nbins = 10, min,max sep = 0.000290888..0.0174533, bin_size = 0.409434\n"
          ]
        },
        {
          "output_type": "stream",
          "name": "stdout",
          "text": [
            "Starting process GG auto-correlations\n"
          ]
        },
        {
          "output_type": "stream",
          "name": "stderr",
          "text": [
            "INFO:treecorr:Starting process GG auto-correlations\n"
          ]
        },
        {
          "output_type": "stream",
          "name": "stdout",
          "text": [
            "Using 2 threads.\n"
          ]
        },
        {
          "output_type": "stream",
          "name": "stderr",
          "text": [
            "INFO:treecorr:Using 2 threads.\n"
          ]
        },
        {
          "output_type": "stream",
          "name": "stdout",
          "text": [
            "Building GField\n"
          ]
        },
        {
          "output_type": "stream",
          "name": "stderr",
          "text": [
            "INFO:treecorr:Building GField\n"
          ]
        },
        {
          "output_type": "stream",
          "name": "stdout",
          "text": [
            "Starting 256 jobs.\n"
          ]
        },
        {
          "output_type": "stream",
          "name": "stderr",
          "text": [
            "INFO:treecorr:Starting 256 jobs.\n"
          ]
        },
        {
          "output_type": "stream",
          "name": "stdout",
          "text": [
            "varg = 0.000406: sig_sn (per component) = 0.020139\n"
          ]
        },
        {
          "output_type": "stream",
          "name": "stderr",
          "text": [
            "INFO:treecorr:varg = 0.000406: sig_sn (per component) = 0.020139\n"
          ]
        },
        {
          "output_type": "stream",
          "name": "stdout",
          "text": [
            "gamma_A.1.txt\n",
            "file: gamma_A.2.fits\n",
            "file shape is (1024, 1024, 2)\n",
            "nbins = 10, min,max sep = 0.000290888..0.0174533, bin_size = 0.409434\n"
          ]
        },
        {
          "output_type": "stream",
          "name": "stderr",
          "text": [
            "INFO:treecorr:nbins = 10, min,max sep = 0.000290888..0.0174533, bin_size = 0.409434\n"
          ]
        },
        {
          "output_type": "stream",
          "name": "stdout",
          "text": [
            "Starting process GG auto-correlations\n"
          ]
        },
        {
          "output_type": "stream",
          "name": "stderr",
          "text": [
            "INFO:treecorr:Starting process GG auto-correlations\n"
          ]
        },
        {
          "output_type": "stream",
          "name": "stdout",
          "text": [
            "Using 2 threads.\n"
          ]
        },
        {
          "output_type": "stream",
          "name": "stderr",
          "text": [
            "INFO:treecorr:Using 2 threads.\n"
          ]
        },
        {
          "output_type": "stream",
          "name": "stdout",
          "text": [
            "Building GField\n"
          ]
        },
        {
          "output_type": "stream",
          "name": "stderr",
          "text": [
            "INFO:treecorr:Building GField\n"
          ]
        },
        {
          "output_type": "stream",
          "name": "stdout",
          "text": [
            "Starting 256 jobs.\n"
          ]
        },
        {
          "output_type": "stream",
          "name": "stderr",
          "text": [
            "INFO:treecorr:Starting 256 jobs.\n"
          ]
        },
        {
          "output_type": "stream",
          "name": "stdout",
          "text": [
            "varg = 0.000519: sig_sn (per component) = 0.022777\n"
          ]
        },
        {
          "output_type": "stream",
          "name": "stderr",
          "text": [
            "INFO:treecorr:varg = 0.000519: sig_sn (per component) = 0.022777\n"
          ]
        },
        {
          "output_type": "stream",
          "name": "stdout",
          "text": [
            "gamma_A.2.txt\n",
            "file: gamma_A.3.fits\n",
            "file shape is (1024, 1024, 2)\n",
            "nbins = 10, min,max sep = 0.000290888..0.0174533, bin_size = 0.409434\n"
          ]
        },
        {
          "output_type": "stream",
          "name": "stderr",
          "text": [
            "INFO:treecorr:nbins = 10, min,max sep = 0.000290888..0.0174533, bin_size = 0.409434\n"
          ]
        },
        {
          "output_type": "stream",
          "name": "stdout",
          "text": [
            "Starting process GG auto-correlations\n"
          ]
        },
        {
          "output_type": "stream",
          "name": "stderr",
          "text": [
            "INFO:treecorr:Starting process GG auto-correlations\n"
          ]
        },
        {
          "output_type": "stream",
          "name": "stdout",
          "text": [
            "Using 2 threads.\n"
          ]
        },
        {
          "output_type": "stream",
          "name": "stderr",
          "text": [
            "INFO:treecorr:Using 2 threads.\n"
          ]
        },
        {
          "output_type": "stream",
          "name": "stdout",
          "text": [
            "Building GField\n"
          ]
        },
        {
          "output_type": "stream",
          "name": "stderr",
          "text": [
            "INFO:treecorr:Building GField\n"
          ]
        },
        {
          "output_type": "stream",
          "name": "stdout",
          "text": [
            "Starting 256 jobs.\n"
          ]
        },
        {
          "output_type": "stream",
          "name": "stderr",
          "text": [
            "INFO:treecorr:Starting 256 jobs.\n"
          ]
        },
        {
          "output_type": "stream",
          "name": "stdout",
          "text": [
            "varg = 0.000383: sig_sn (per component) = 0.019572\n"
          ]
        },
        {
          "output_type": "stream",
          "name": "stderr",
          "text": [
            "INFO:treecorr:varg = 0.000383: sig_sn (per component) = 0.019572\n"
          ]
        },
        {
          "output_type": "stream",
          "name": "stdout",
          "text": [
            "gamma_A.3.txt\n"
          ]
        }
      ]
    },
    {
      "cell_type": "code",
      "source": [
        "process_one('B',0,2,1,60,10)"
      ],
      "metadata": {
        "colab": {
          "base_uri": "https://localhost:8080/"
        },
        "id": "dN5TwJ5PKUIw",
        "outputId": "b90eaab7-4db9-40b3-a29d-278ac9118df1"
      },
      "execution_count": 36,
      "outputs": [
        {
          "output_type": "stream",
          "name": "stdout",
          "text": [
            "file: gamma_B.0.fits\n",
            "file shape is (1024, 1024, 2)\n",
            "nbins = 10, min,max sep = 0.000290888..0.0174533, bin_size = 0.409434\n"
          ]
        },
        {
          "output_type": "stream",
          "name": "stderr",
          "text": [
            "INFO:treecorr:nbins = 10, min,max sep = 0.000290888..0.0174533, bin_size = 0.409434\n"
          ]
        },
        {
          "output_type": "stream",
          "name": "stdout",
          "text": [
            "Starting process GG auto-correlations\n"
          ]
        },
        {
          "output_type": "stream",
          "name": "stderr",
          "text": [
            "INFO:treecorr:Starting process GG auto-correlations\n"
          ]
        },
        {
          "output_type": "stream",
          "name": "stdout",
          "text": [
            "Using 2 threads.\n"
          ]
        },
        {
          "output_type": "stream",
          "name": "stderr",
          "text": [
            "INFO:treecorr:Using 2 threads.\n"
          ]
        },
        {
          "output_type": "stream",
          "name": "stdout",
          "text": [
            "Building GField\n"
          ]
        },
        {
          "output_type": "stream",
          "name": "stderr",
          "text": [
            "INFO:treecorr:Building GField\n"
          ]
        },
        {
          "output_type": "stream",
          "name": "stdout",
          "text": [
            "Starting 256 jobs.\n"
          ]
        },
        {
          "output_type": "stream",
          "name": "stderr",
          "text": [
            "INFO:treecorr:Starting 256 jobs.\n"
          ]
        },
        {
          "output_type": "stream",
          "name": "stdout",
          "text": [
            "varg = 0.000272: sig_sn (per component) = 0.016502\n"
          ]
        },
        {
          "output_type": "stream",
          "name": "stderr",
          "text": [
            "INFO:treecorr:varg = 0.000272: sig_sn (per component) = 0.016502\n"
          ]
        },
        {
          "output_type": "stream",
          "name": "stdout",
          "text": [
            "gamma_B.0.txt\n"
          ]
        },
        {
          "output_type": "execute_result",
          "data": {
            "text/plain": [
              "(array([ 1.27790787,  1.91628783,  2.89006986,  4.3272716 ,  6.51742622,\n",
              "         9.845097  , 14.83354816, 22.21270463, 33.38366049, 49.90964392]),\n",
              " array([2.19617209e-04, 1.59140036e-04, 1.10126986e-04, 7.71611441e-05,\n",
              "        5.34265196e-05, 4.00535324e-05, 3.47262488e-05, 2.73819865e-05,\n",
              "        1.26433175e-05, 1.97335867e-06]),\n",
              " array([-1.30020461e-06, -5.57604779e-07,  7.82823656e-07,  1.55251593e-07,\n",
              "        -2.06026322e-07,  4.24280530e-07,  7.84852980e-07,  4.84431762e-07,\n",
              "        -2.57896913e-06, -2.97713037e-06]),\n",
              " array([1.59999300e+08, 3.28748752e+08, 7.75693616e+08, 1.64243379e+09,\n",
              "        3.79528320e+09, 8.26174438e+09, 1.76862413e+10, 3.57194220e+10,\n",
              "        7.19928689e+10, 1.23286716e+11]))"
            ]
          },
          "metadata": {},
          "execution_count": 36
        }
      ]
    },
    {
      "cell_type": "code",
      "source": [
        "process_one('B',9,2,1,60,10)"
      ],
      "metadata": {
        "colab": {
          "base_uri": "https://localhost:8080/"
        },
        "id": "Mv36Lw57KUpz",
        "outputId": "3f82c368-400c-471d-d06d-38ca2c615191"
      },
      "execution_count": 37,
      "outputs": [
        {
          "output_type": "stream",
          "name": "stdout",
          "text": [
            "file: gamma_B.9.fits\n",
            "file shape is (1024, 1024, 2)\n",
            "nbins = 10, min,max sep = 0.000290888..0.0174533, bin_size = 0.409434\n"
          ]
        },
        {
          "output_type": "stream",
          "name": "stderr",
          "text": [
            "INFO:treecorr:nbins = 10, min,max sep = 0.000290888..0.0174533, bin_size = 0.409434\n"
          ]
        },
        {
          "output_type": "stream",
          "name": "stdout",
          "text": [
            "Starting process GG auto-correlations\n"
          ]
        },
        {
          "output_type": "stream",
          "name": "stderr",
          "text": [
            "INFO:treecorr:Starting process GG auto-correlations\n"
          ]
        },
        {
          "output_type": "stream",
          "name": "stdout",
          "text": [
            "Using 2 threads.\n"
          ]
        },
        {
          "output_type": "stream",
          "name": "stderr",
          "text": [
            "INFO:treecorr:Using 2 threads.\n"
          ]
        },
        {
          "output_type": "stream",
          "name": "stdout",
          "text": [
            "Building GField\n"
          ]
        },
        {
          "output_type": "stream",
          "name": "stderr",
          "text": [
            "INFO:treecorr:Building GField\n"
          ]
        },
        {
          "output_type": "stream",
          "name": "stdout",
          "text": [
            "Starting 256 jobs.\n"
          ]
        },
        {
          "output_type": "stream",
          "name": "stderr",
          "text": [
            "INFO:treecorr:Starting 256 jobs.\n"
          ]
        },
        {
          "output_type": "stream",
          "name": "stdout",
          "text": [
            "varg = 0.000242: sig_sn (per component) = 0.015572\n"
          ]
        },
        {
          "output_type": "stream",
          "name": "stderr",
          "text": [
            "INFO:treecorr:varg = 0.000242: sig_sn (per component) = 0.015572\n"
          ]
        },
        {
          "output_type": "stream",
          "name": "stdout",
          "text": [
            "gamma_B.9.txt\n"
          ]
        },
        {
          "output_type": "execute_result",
          "data": {
            "text/plain": [
              "(array([ 1.27790787,  1.91628783,  2.89006986,  4.3272716 ,  6.51742622,\n",
              "         9.845097  , 14.83354816, 22.21270463, 33.38366049, 49.90964392]),\n",
              " array([1.84880444e-04, 1.30828777e-04, 8.74204603e-05, 5.71287972e-05,\n",
              "        3.77433547e-05, 2.68551162e-05, 1.48712716e-05, 9.44287397e-06,\n",
              "        5.66122702e-06, 3.69687173e-06]),\n",
              " array([-9.98002000e-08, -8.30426461e-07,  8.59304733e-07, -1.47980443e-06,\n",
              "         6.95621774e-07,  4.97048720e-07, -5.48542353e-08, -3.34122901e-06,\n",
              "        -6.31746025e-07,  5.25990847e-07]),\n",
              " array([1.59999300e+08, 3.28748752e+08, 7.75693616e+08, 1.64243379e+09,\n",
              "        3.79528320e+09, 8.26174438e+09, 1.76862413e+10, 3.57194220e+10,\n",
              "        7.19928689e+10, 1.23286716e+11]))"
            ]
          },
          "metadata": {},
          "execution_count": 37
        }
      ]
    }
  ]
}