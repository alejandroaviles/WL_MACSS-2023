{
  "nbformat": 4,
  "nbformat_minor": 0,
  "metadata": {
    "colab": {
      "provenance": [],
      "authorship_tag": "ABX9TyM0oTJ1Scn1R5XTwb0W+vlT",
      "include_colab_link": true
    },
    "kernelspec": {
      "name": "python3",
      "display_name": "Python 3"
    },
    "language_info": {
      "name": "python"
    }
  },
  "cells": [
    {
      "cell_type": "markdown",
      "metadata": {
        "id": "view-in-github",
        "colab_type": "text"
      },
      "source": [
        "<a href=\"https://colab.research.google.com/github/alejandroaviles/WL_MACSS-2023/blob/main/Solution-Proyect1_estimator_for__the_convergence.ipynb\" target=\"_parent\"><img src=\"https://colab.research.google.com/assets/colab-badge.svg\" alt=\"Open In Colab\"/></a>"
      ]
    },
    {
      "cell_type": "code",
      "execution_count": 2,
      "metadata": {
        "id": "ELP9RZgcLAc7"
      },
      "outputs": [],
      "source": [
        "import numpy as np\n",
        "import matplotlib.pyplot as plt\n",
        "import os"
      ]
    },
    {
      "cell_type": "code",
      "source": [
        "!git clone https://github.com/alejandroaviles/WL_MACSS-2023.git"
      ],
      "metadata": {
        "colab": {
          "base_uri": "https://localhost:8080/"
        },
        "id": "JuwGQUmMfV68",
        "outputId": "0e39eb88-f331-47d5-a9bf-48bd91b97537"
      },
      "execution_count": 3,
      "outputs": [
        {
          "output_type": "stream",
          "name": "stdout",
          "text": [
            "Cloning into 'WL_MACSS-2023'...\n",
            "remote: Enumerating objects: 190, done.\u001b[K\n",
            "remote: Counting objects: 100% (64/64), done.\u001b[K\n",
            "remote: Compressing objects: 100% (64/64), done.\u001b[K\n",
            "remote: Total 190 (delta 24), reused 0 (delta 0), pack-reused 126\u001b[K\n",
            "Receiving objects: 100% (190/190), 70.82 MiB | 19.71 MiB/s, done.\n",
            "Resolving deltas: 100% (97/97), done.\n"
          ]
        }
      ]
    },
    {
      "cell_type": "code",
      "source": [
        "os.chdir('WL_MACSS-2023')  # move to repositiry folder"
      ],
      "metadata": {
        "id": "VrJSGqSWfsEy"
      },
      "execution_count": 4,
      "outputs": []
    },
    {
      "cell_type": "markdown",
      "source": [
        "Since the apparent size of resolved background objects change, their flux changes as well. These two effects are manifestation of *gravitational magnification*, and can be used as weak-lensing observables in addition to the deformation (shear) of galaxy shapes. This magnification is an estimator of the convergence $\\kappa$."
      ],
      "metadata": {
        "id": "buWsn0NLm-Oh"
      }
    },
    {
      "cell_type": "markdown",
      "source": [
        "The convergence $\\kappa$ can be interpreted as a (projected) surface density."
      ],
      "metadata": {
        "id": "FxmLBfcWoh7Q"
      }
    },
    {
      "cell_type": "markdown",
      "source": [
        "The assumption that the density field $\\delta$ on large scales is statistically homogeneous and isotropic (which follows from the cosmological principle), the same holds for the convergence."
      ],
      "metadata": {
        "id": "4wro4lsVo1yG"
      }
    },
    {
      "cell_type": "code",
      "source": [
        "dt=np.dtype({'names':['X','Y','kappa'],'formats':[float,float,float]})"
      ],
      "metadata": {
        "id": "mYPJ2n2zZ7Z2"
      },
      "execution_count": 5,
      "outputs": []
    },
    {
      "cell_type": "code",
      "source": [
        "data= np.loadtxt(open('convergence.txt'),dtype=dt)\n",
        "X_data=[x[0] for x in data]\n",
        "Y_data=[x[1] for x in data]\n",
        "kappa_data=[x[2] for x in data]"
      ],
      "metadata": {
        "id": "2A86jCw-am0_"
      },
      "execution_count": 6,
      "outputs": []
    },
    {
      "cell_type": "markdown",
      "source": [
        "The basic second-order function of the convergence is the two-point correlation function (2PCF) $⟨\\kappa(\\vec{ϑ})\\kappa(\\vec{ϑ}+\\vec{θ})⟩$. The brackets denote ensemble average, which can be replaced by a spatial average over angular positions $\\vec{ϑ}$."
      ],
      "metadata": {
        "id": "6xXMA3lCpQ4P"
      }
    },
    {
      "cell_type": "markdown",
      "source": [
        "The 2PCF is then invariant under traslation and rotation, and therefore a function a function of only the modulus of the separation vector between the two lines of sight $\\theta$."
      ],
      "metadata": {
        "id": "GOAPfpp0q31y"
      }
    },
    {
      "cell_type": "code",
      "source": [
        "def xi_kappa_kappa (samplexT, sampleyT, sampleKappaT, numOfbins, maxdist):\n",
        "\n",
        "    Num  = len(samplexT)\n",
        "    hist_xikk = np.zeros(numOfbins)\n",
        "    numInbin = np.zeros(numOfbins)\n",
        "\n",
        "    bindist = maxdist/(numOfbins)\n",
        "\n",
        "    for i in range(Num):\n",
        "        p1x = samplexT[i]\n",
        "        p1y = sampleyT[i]\n",
        "        kappa1 = sampleKappaT[i]\n",
        "\n",
        "        for j in range(i+1,Num):\n",
        "            p2x = samplexT[j]\n",
        "            p2y = sampleyT[j]\n",
        "            kappa2 = sampleKappaT[j]\n",
        "\n",
        "            dist = np.sqrt(((p2y - p1y)**2) + ((p2x - p1x)**2))\n",
        "\n",
        "            xi_kk = kappa1 * kappa2\n",
        "\n",
        "            # binning\n",
        "            if(0<dist<=maxdist):\n",
        "                inbin = int(dist/bindist)\n",
        "                numInbin[[inbin]]  += 1\n",
        "                hist_xikk[[inbin]] += xi_kk\n",
        "\n",
        "    numInbin[numInbin==0]=1\n",
        "\n",
        "    hist_xikk = np.divide(hist_xikk,numInbin)\n",
        "\n",
        "    return hist_xikk, numInbin"
      ],
      "metadata": {
        "id": "wq7MTpCjay9m"
      },
      "execution_count": 7,
      "outputs": []
    },
    {
      "cell_type": "code",
      "source": [
        "xikk, numInbin = xi_kappa_kappa(X_data,Y_data,kappa_data,10 , 2.828)"
      ],
      "metadata": {
        "id": "pIN83fnha3K5"
      },
      "execution_count": 8,
      "outputs": []
    },
    {
      "cell_type": "code",
      "source": [
        "plt.plot(xikk, 'r--o', label=\"$\\\\xi_{kk}$\")\n",
        "plt.title(\"Estimator for the convergence\")\n",
        "plt.legend()\n",
        "plt.show()"
      ],
      "metadata": {
        "colab": {
          "base_uri": "https://localhost:8080/",
          "height": 452
        },
        "id": "-jvYcxFHa7xn",
        "outputId": "86e50709-1eb5-4bd3-c815-5985c8337acb"
      },
      "execution_count": 9,
      "outputs": [
        {
          "output_type": "display_data",
          "data": {
            "text/plain": [
              "<Figure size 640x480 with 1 Axes>"
            ],
            "image/png": "[encoded data removed]"
          },
          "metadata": {}
        }
      ]
    },
    {
      "cell_type": "markdown",
      "source": [
        "All information presented here was taken from Kilbinger M. (2015) *Cosmology with cosmic shear observations: a review*\n",
        "\n",
        "For more information: https://drive.google.com/file/d/14skR3BjoK0JqdU4snd_o16O9BHXoS0Tm/view"
      ],
      "metadata": {
        "id": "C8zKeApfrcUC"
      }
    },
    {
      "cell_type": "code",
      "source": [],
      "metadata": {
        "id": "KSuluQ9ygh9u"
      },
      "execution_count": null,
      "outputs": []
    }
  ]
}