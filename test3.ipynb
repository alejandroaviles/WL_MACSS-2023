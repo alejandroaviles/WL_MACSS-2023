{
  "nbformat": 4,
  "nbformat_minor": 0,
  "metadata": {
    "colab": {
      "provenance": [],
      "authorship_tag": "ABX9TyOea9O4ukCbSfWVbrDrLNqz",
      "include_colab_link": true
    },
    "kernelspec": {
      "name": "python3",
      "display_name": "Python 3"
    },
    "language_info": {
      "name": "python"
    }
  },
  "cells": [
    {
      "cell_type": "markdown",
      "metadata": {
        "id": "view-in-github",
        "colab_type": "text"
      },
      "source": [
        "<a href=\"https://colab.research.google.com/github/alejandroaviles/WL_MACSS-2023/blob/main/test3.ipynb\" target=\"_parent\"><img src=\"https://colab.research.google.com/assets/colab-badge.svg\" alt=\"Open In Colab\"/></a>"
      ]
    },
    {
      "cell_type": "code",
      "source": [
        "import numpy as np\n",
        "import matplotlib.pyplot as plt\n",
        "from astropy.io import fits\n",
        "import os"
      ],
      "metadata": {
        "id": "TEGYiiTUOgsC"
      },
      "execution_count": 1,
      "outputs": []
    },
    {
      "cell_type": "code",
      "source": [
        "!git clone https://github.com/alejandroaviles/WL_MACSS-2023.git"
      ],
      "metadata": {
        "id": "hyVd6vB5Ob50",
        "outputId": "d12d7ae7-35b9-4dc6-f4ea-eed317dfef18",
        "colab": {
          "base_uri": "https://localhost:8080/"
        }
      },
      "execution_count": 2,
      "outputs": [
        {
          "output_type": "stream",
          "name": "stdout",
          "text": [
            "Cloning into 'WL_MACSS-2023'...\n",
            "remote: Enumerating objects: 45, done.\u001b[K\n",
            "remote: Counting objects: 100% (45/45), done.\u001b[K\n",
            "remote: Compressing objects: 100% (45/45), done.\u001b[K\n",
            "remote: Total 45 (delta 22), reused 0 (delta 0), pack-reused 0\u001b[K\n",
            "Unpacking objects: 100% (45/45), 12.89 MiB | 3.26 MiB/s, done.\n"
          ]
        }
      ]
    },
    {
      "cell_type": "code",
      "source": [
        "os.chdir('WL_MACSS-2023')"
      ],
      "metadata": {
        "id": "cUjF1lc2PQzL"
      },
      "execution_count": 3,
      "outputs": []
    },
    {
      "cell_type": "code",
      "source": [
        "!pip install treecorr"
      ],
      "metadata": {
        "colab": {
          "base_uri": "https://localhost:8080/"
        },
        "id": "KqIA8TX164k-",
        "outputId": "9899ee4c-1b30-4142-fffb-d751c4554a92"
      },
      "execution_count": 4,
      "outputs": [
        {
          "output_type": "stream",
          "name": "stdout",
          "text": [
            "Looking in indexes: https://pypi.org/simple, https://us-python.pkg.dev/colab-wheels/public/simple/\n",
            "Collecting treecorr\n",
            "  Downloading TreeCorr-4.3.3-cp310-cp310-manylinux_2_17_x86_64.manylinux2014_x86_64.whl (10.8 MB)\n",
            "\u001b[2K     \u001b[90m━━━━━━━━━━━━━━━━━━━━━━━━━━━━━━━━━━━━━━━━\u001b[0m \u001b[32m10.8/10.8 MB\u001b[0m \u001b[31m55.1 MB/s\u001b[0m eta \u001b[36m0:00:00\u001b[0m\n",
            "\u001b[?25hRequirement already satisfied: numpy in /usr/local/lib/python3.10/dist-packages (from treecorr) (1.22.4)\n",
            "Requirement already satisfied: cffi in /usr/local/lib/python3.10/dist-packages (from treecorr) (1.15.1)\n",
            "Requirement already satisfied: pyyaml in /usr/local/lib/python3.10/dist-packages (from treecorr) (6.0)\n",
            "Collecting LSSTDESC.Coord>=1.1 (from treecorr)\n",
            "  Downloading LSSTDESC.Coord-1.3.0-py3-none-any.whl (27 kB)\n",
            "Requirement already satisfied: future in /usr/local/lib/python3.10/dist-packages (from LSSTDESC.Coord>=1.1->treecorr) (0.18.3)\n",
            "Requirement already satisfied: pycparser in /usr/local/lib/python3.10/dist-packages (from cffi->treecorr) (2.21)\n",
            "Installing collected packages: LSSTDESC.Coord, treecorr\n",
            "Successfully installed LSSTDESC.Coord-1.3.0 treecorr-4.3.3\n"
          ]
        }
      ]
    },
    {
      "cell_type": "code",
      "source": [
        "import numpy as np\n",
        "import matplotlib.pyplot as plt\n",
        "from astropy.io import fits\n",
        "import os\n",
        "\n",
        "import treecorr"
      ],
      "metadata": {
        "id": "xiUfKU5R7QNa"
      },
      "execution_count": 5,
      "outputs": []
    },
    {
      "cell_type": "code",
      "source": [
        "# get the current working directory\n",
        "current_working_directory = os.getcwd()\n",
        "# print output to the console\n",
        "print(current_working_directory)\n",
        "file_exists = os.path.exists('gamma_A.0.fits')\n",
        "print(file_exists)"
      ],
      "metadata": {
        "colab": {
          "base_uri": "https://localhost:8080/"
        },
        "id": "RaZTTr7g_ogY",
        "outputId": "c164a085-3001-4e65-f837-a0b98de23703"
      },
      "execution_count": 6,
      "outputs": [
        {
          "output_type": "stream",
          "name": "stdout",
          "text": [
            "/content/WL_MACSS-2023\n",
            "True\n"
          ]
        }
      ]
    },
    {
      "cell_type": "code",
      "source": [
        "filename='gamma_A.0.fits'\n",
        "gammaA0 = fits.getdata(filename, ext=0)\n",
        "\n",
        "print('file:',filename)\n",
        "print('file shape is',gammaA0.shape)\n",
        "length=gammaA0.shape[1]"
      ],
      "metadata": {
        "id": "9q8gQXoJ9S48",
        "outputId": "f295b818-a8c0-43d3-bdc2-8df1240a9a8d",
        "colab": {
          "base_uri": "https://localhost:8080/"
        }
      },
      "execution_count": 7,
      "outputs": [
        {
          "output_type": "stream",
          "name": "stdout",
          "text": [
            "file: gamma_A.0.fits\n",
            "file shape is (1024, 1024, 2)\n"
          ]
        }
      ]
    },
    {
      "cell_type": "code",
      "source": [
        "A0gamma1 = np.zeros(length*length);\n",
        "A0gamma2 = np.zeros(length*length);\n",
        "yT = np.zeros(length*length);\n",
        "xT = np.zeros(length*length);\n",
        "\n",
        "size_in_degrees=2;\n",
        "tounits=size_in_degrees/length * np.pi/180;\n",
        "\n",
        "print('lenght in degrees:',size_in_degrees)\n",
        "print('conversion to units (rad):',tounits)\n",
        "\n",
        "\n",
        "nn=0;\n",
        "for jj in range(length):\n",
        "    for ii in range(length):\n",
        "        A0gamma1[nn] = gammaA0[jj,ii,0]\n",
        "        A0gamma2[nn] = gammaA0[jj,ii,1]\n",
        "        xT[nn] = ii*tounits\n",
        "        yT[nn] = jj*tounits\n",
        "        nn=nn+1"
      ],
      "metadata": {
        "id": "2s8-7EpO9TWY",
        "colab": {
          "base_uri": "https://localhost:8080/"
        },
        "outputId": "26f36dbb-213f-4014-c6a9-1875f8cb5519"
      },
      "execution_count": 8,
      "outputs": [
        {
          "output_type": "stream",
          "name": "stdout",
          "text": [
            "lenght in degrees: 2\n",
            "conversion to units (rad): 3.408846195301425e-05\n"
          ]
        }
      ]
    },
    {
      "cell_type": "code",
      "source": [
        "minArcmin=1.\n",
        "maxArcmin=60.\n",
        "minRad=minArcmin*np.pi/60/180\n",
        "maxRad=maxArcmin*np.pi/60/180\n",
        "print(\"minRad={:.5}, maxRad={:.5}\".format(minRad,maxRad))\n",
        "nbins=10"
      ],
      "metadata": {
        "colab": {
          "base_uri": "https://localhost:8080/"
        },
        "id": "7eSInoV4BVvR",
        "outputId": "efcbc242-bfd5-48ba-bfc0-0560b695c029"
      },
      "execution_count": 10,
      "outputs": [
        {
          "output_type": "stream",
          "name": "stdout",
          "text": [
            "minRad=0.00029089, maxRad=0.017453\n"
          ]
        }
      ]
    },
    {
      "cell_type": "code",
      "source": [
        "#cat=treecorr.Catalog(ra=xT,dec=yT,g1=A0gamma1,g2=A0gamma2,ra_units=\"rad\",dec_units=\"rad\")\n",
        "cat=treecorr.Catalog(x=xT,y=yT,g1=A0gamma1,g2=A0gamma2,ra_units=\"rad\",dec_units=\"rad\")"
      ],
      "metadata": {
        "id": "AgwHniAZBZX7"
      },
      "execution_count": 11,
      "outputs": []
    },
    {
      "cell_type": "code",
      "source": [
        "GG=treecorr.GGCorrelation(min_sep=minRad,max_sep=maxRad,verbose=2,nbins=nbins)\n",
        "#t1=time.perf_counter()\n",
        "GG.process(cat)\n",
        "#times[nSample]=round(time.perf_counter()-t1,ndigits=4)\n",
        "#print(times)"
      ],
      "metadata": {
        "colab": {
          "base_uri": "https://localhost:8080/"
        },
        "id": "YOf-kK5kBgRk",
        "outputId": "5c43cedf-cbe5-4405-e345-cd8b143a3834"
      },
      "execution_count": 12,
      "outputs": [
        {
          "output_type": "stream",
          "name": "stdout",
          "text": [
            "nbins = 10, min,max sep = 0.000290888..0.0174533, bin_size = 0.409434\n"
          ]
        },
        {
          "output_type": "stream",
          "name": "stderr",
          "text": [
            "INFO:treecorr:nbins = 10, min,max sep = 0.000290888..0.0174533, bin_size = 0.409434\n"
          ]
        },
        {
          "output_type": "stream",
          "name": "stdout",
          "text": [
            "Starting process GG auto-correlations\n"
          ]
        },
        {
          "output_type": "stream",
          "name": "stderr",
          "text": [
            "INFO:treecorr:Starting process GG auto-correlations\n"
          ]
        },
        {
          "output_type": "stream",
          "name": "stdout",
          "text": [
            "Using 2 threads.\n"
          ]
        },
        {
          "output_type": "stream",
          "name": "stderr",
          "text": [
            "INFO:treecorr:Using 2 threads.\n"
          ]
        },
        {
          "output_type": "stream",
          "name": "stdout",
          "text": [
            "Building GField\n"
          ]
        },
        {
          "output_type": "stream",
          "name": "stderr",
          "text": [
            "INFO:treecorr:Building GField\n"
          ]
        },
        {
          "output_type": "stream",
          "name": "stdout",
          "text": [
            "Starting 256 jobs.\n"
          ]
        },
        {
          "output_type": "stream",
          "name": "stderr",
          "text": [
            "INFO:treecorr:Starting 256 jobs.\n"
          ]
        },
        {
          "output_type": "stream",
          "name": "stdout",
          "text": [
            "varg = 0.000354: sig_sn (per component) = 0.018827\n"
          ]
        },
        {
          "output_type": "stream",
          "name": "stderr",
          "text": [
            "INFO:treecorr:varg = 0.000354: sig_sn (per component) = 0.018827\n"
          ]
        }
      ]
    },
    {
      "cell_type": "code",
      "source": [
        "nSample=len(nDec)\n",
        "nSample"
      ],
      "metadata": {
        "id": "TNFahFH2BiIY",
        "colab": {
          "base_uri": "https://localhost:8080/"
        },
        "outputId": "36cd7f0e-943c-459a-f8cb-2d0c05825778"
      },
      "execution_count": 13,
      "outputs": [
        {
          "output_type": "execute_result",
          "data": {
            "text/plain": [
              "1048576"
            ]
          },
          "metadata": {},
          "execution_count": 13
        }
      ]
    },
    {
      "cell_type": "code",
      "source": [
        "GG.__dict__"
      ],
      "metadata": {
        "colab": {
          "base_uri": "https://localhost:8080/"
        },
        "id": "KTpaGkGMBkAc",
        "outputId": "c54a77a6-f217-4705-c3fe-870213c5439d"
      },
      "execution_count": 14,
      "outputs": [
        {
          "output_type": "execute_result",
          "data": {
            "text/plain": [
              "{'_corr': <cdata 'void *' 0x3965da0>,\n",
              " 'config': {'min_sep': 0.0002908882086657216,\n",
              "  'max_sep': 0.017453292519943292,\n",
              "  'verbose': 2,\n",
              "  'nbins': 10,\n",
              "  'brute': False,\n",
              "  'split_method': 'mean',\n",
              "  'max_top': 10,\n",
              "  'precision': 4,\n",
              "  'pairwise': False,\n",
              "  'm2_uform': 'Crittenden',\n",
              "  'metric': 'Euclidean',\n",
              "  'bin_type': 'Log',\n",
              "  'var_method': 'shot',\n",
              "  'num_bootstrap': 500},\n",
              " 'logger': <Logger treecorr (INFO)>,\n",
              " '_ro': <treecorr.binnedcorr2.Namespace at 0x7fd88df2e380>,\n",
              " 'coords': 'spherical',\n",
              " 'metric': 'Euclidean',\n",
              " 'results': {},\n",
              " 'npatch1': 1,\n",
              " 'npatch2': 1,\n",
              " '_rng': None,\n",
              " 'xip': array([3.02705746e-04, 2.24346490e-04, 1.56495355e-04, 1.06561254e-04,\n",
              "        7.00748474e-05, 4.30544304e-05, 2.97193077e-05, 1.58645462e-05,\n",
              "        6.65257844e-06, 2.27045638e-07]),\n",
              " 'xim': array([-1.16430411e-06, -2.24104022e-06, -3.15756928e-07, -3.85152523e-06,\n",
              "        -1.30733706e-06, -2.19663037e-06,  8.84432198e-07,  1.93460409e-07,\n",
              "        -3.77815101e-06, -4.14155611e-06]),\n",
              " 'xip_im': array([ 1.26001895e-06,  2.48872945e-06,  3.82106217e-06,  3.18737525e-06,\n",
              "         3.00200629e-06,  3.31355704e-06,  2.40124569e-06, -7.01148255e-07,\n",
              "        -5.72227270e-07,  5.47790080e-06]),\n",
              " 'xim_im': array([-4.77438297e-07, -1.09817616e-06, -1.52340306e-06, -1.75874162e-06,\n",
              "        -9.15217521e-07,  1.70093657e-06,  8.24847461e-07,  1.10778841e-06,\n",
              "         1.36384081e-06,  1.78054000e-06]),\n",
              " 'meanr': array([0.0003718 , 0.0005575 , 0.00084205, 0.00125987, 0.00189768,\n",
              "        0.00286492, 0.00431803, 0.00646372, 0.00971478, 0.01453457]),\n",
              " 'meanlogr': array([-7.90365754, -7.4970779 , -7.08583769, -6.68237528, -6.27332893,\n",
              "        -5.86118145, -5.45112784, -5.04726512, -4.64040384, -4.23689777]),\n",
              " 'weight': array([1.59842005e+08, 3.28754240e+08, 7.82497280e+08, 1.63720262e+09,\n",
              "        3.81344845e+09, 8.24200115e+09, 1.77636639e+10, 3.56419994e+10,\n",
              "        7.21618207e+10, 1.23711259e+11]),\n",
              " 'npairs': array([1.59842005e+08, 3.28754240e+08, 7.82497280e+08, 1.63720262e+09,\n",
              "        3.81344845e+09, 8.24200115e+09, 1.77636639e+10, 3.56419994e+10,\n",
              "        7.21618207e+10, 1.23711259e+11]),\n",
              " '_varxip': None,\n",
              " '_varxim': None,\n",
              " '_cov': None,\n",
              " '_var_num': 2.5128058894861536e-07,\n",
              " '_coords': 3,\n",
              " '_metric': 1}"
            ]
          },
          "metadata": {},
          "execution_count": 14
        }
      ]
    },
    {
      "cell_type": "code",
      "source": [
        "salida = np.zeros((len(GG.xip),4))  \n",
        "#print(salida)              # Prints \n",
        "\n",
        "for ii in range(len(GG.xip)):\n",
        "    salida[ii,0] = GG.meanr[ii]/np.pi*180*60\n",
        "    salida[ii,1] = GG.xip[ii]\n",
        "    salida[ii,2] = GG.xim[ii]\n",
        "    salida[ii,3] = GG.npairs[ii]"
      ],
      "metadata": {
        "id": "j6Vlt9lFBm9n"
      },
      "execution_count": 15,
      "outputs": []
    },
    {
      "cell_type": "code",
      "source": [
        "thtArr=np.array(GG.meanr)/np.pi*180*60#*tounit\n",
        "#plt.figure(figsize=(10,8))\n",
        "fig = plt.figure();\n",
        "ax1 = fig.add_subplot(1, 1, 1)\n",
        "#ax1.axis('equal')\n",
        "#ax1.set_xscale('log')\n",
        "ax1.set_xscale('log')\n",
        "ax1.plot(thtArr,thtArr*GG.xip,linestyle=\"-\",c=\"b\",alpha=.6,label=\"$\\\\xi_+$\")\n",
        "ax1.plot(thtArr,thtArr*GG.xim,linestyle=\"--\",c=\"r\",alpha=.6,label=\"$\\\\xi_-$\")\n",
        "ax1.legend(frameon=False)\n",
        "ax1.set_ylabel(r\"$ \\theta \\xi_{\\pm}(\\theta) $\", fontsize=14)\n",
        "ax1.set_xlabel(r\"$\\theta  \\quad $[arcmin]\", fontsize=14)\n",
        "#plt.title(prefix+\"   points=\"+str(nSample))\n",
        "\n",
        "plt.show()\n"
      ],
      "metadata": {
        "colab": {
          "base_uri": "https://localhost:8080/",
          "height": 461
        },
        "id": "qL5nc05pCtgT",
        "outputId": "c64d0626-439d-4200-d54b-0ffb5672d7a6"
      },
      "execution_count": 22,
      "outputs": [
        {
          "output_type": "display_data",
          "data": {
            "text/plain": [
              "<Figure size 640x480 with 1 Axes>"
            ],
            "image/png": "[encoded data removed]"
          },
          "metadata": {}
        }
      ]
    },
    {
      "cell_type": "code",
      "source": [],
      "metadata": {
        "id": "CtwVRgUmDB4e"
      },
      "execution_count": null,
      "outputs": []
    },
    {
      "cell_type": "markdown",
      "source": [
        "# TEST download all sims"
      ],
      "metadata": {
        "id": "L5HzuI-ZsAHX"
      }
    },
    {
      "cell_type": "code",
      "source": [
        "!gdown 1Tv7Q9lKa6ymUeWREcomDAO45EijLoM9P"
      ],
      "metadata": {
        "colab": {
          "base_uri": "https://localhost:8080/"
        },
        "id": "3eT5pYvtsEkB",
        "outputId": "9fa94f9c-201a-4be2-d1ae-8e5dbeefcfef"
      },
      "execution_count": 23,
      "outputs": [
        {
          "output_type": "stream",
          "name": "stdout",
          "text": [
            "Downloading...\n",
            "From: https://drive.google.com/uc?id=1Tv7Q9lKa6ymUeWREcomDAO45EijLoM9P\n",
            "To: /content/WL_MACSS-2023/MWhite_WL_sims.zip\n",
            "100% 232M/232M [00:02<00:00, 93.5MB/s]\n"
          ]
        }
      ]
    },
    {
      "cell_type": "code",
      "source": [
        "!unzip MWhite_WL_sims.zip"
      ],
      "metadata": {
        "id": "AKNbJ7Egtg5r",
        "outputId": "4ff277ac-00f3-45fd-83c1-8d6fe1703dfc",
        "colab": {
          "base_uri": "https://localhost:8080/"
        }
      },
      "execution_count": 24,
      "outputs": [
        {
          "output_type": "stream",
          "name": "stdout",
          "text": [
            "Archive:  MWhite_WL_sims.zip\n",
            "   creating: sims/\n",
            "  inflating: sims/gamma_B.4.fits     \n",
            "  inflating: sims/kappa_B.1.fits     \n",
            "  inflating: sims/gamma_A.4.fits     \n",
            "  inflating: sims/kappa_A.8.fits     \n",
            "  inflating: sims/gamma_A.3.fits     \n",
            "  inflating: sims/gamma_A.7.fits     \n",
            "  inflating: sims/kappa_A.5.fits     \n",
            "  inflating: sims/kappa_B.2.fits     \n",
            "  inflating: sims/gamma_B.3.fits     \n",
            "  inflating: sims/kappa_B.5.fits     \n",
            "   creating: sims/.ipynb_checkpoints/\n",
            "  inflating: sims/.ipynb_checkpoints/0_README-checkpoint.txt  \n",
            "  inflating: sims/gamma_A.8.fits     \n",
            "  inflating: sims/kappa_A.7.fits     \n",
            "  inflating: sims/gamma_B.9.fits     \n",
            "  inflating: sims/kappa_A.0.fits     \n",
            "  inflating: sims/gamma_B.7.fits     \n",
            "  inflating: sims/kappa_B.6.fits     \n",
            "  inflating: sims/gamma_B.1.fits     \n",
            "  inflating: sims/gamma_B.0.fits     \n",
            "  inflating: sims/kappa_A.2.fits     \n",
            "  inflating: sims/kappa_A.4.fits     \n",
            "  inflating: sims/gamma_A.9.fits     \n",
            "  inflating: sims/gamma_B.2.fits     \n",
            "  inflating: sims/0_README.txt       \n",
            "  inflating: sims/kappa_B.7.fits     \n",
            "  inflating: sims/kappa_A.3.fits     \n",
            "  inflating: sims/gamma_B.8.fits     \n",
            "  inflating: sims/kappa_B.3.fits     \n",
            "  inflating: sims/gamma_B.5.fits     \n",
            "  inflating: sims/gamma_A.2.fits     \n",
            "  inflating: sims/gamma_A.5.fits     \n",
            "  inflating: sims/gamma_A.1.fits     \n",
            "  inflating: sims/kappa_B.9.fits     \n",
            "  inflating: sims/kappa_B.0.fits     \n",
            "  inflating: sims/kappa_A.1.fits     \n",
            "  inflating: sims/gamma_A.0.fits     \n",
            "  inflating: sims/kappa_A.6.fits     \n",
            "  inflating: sims/gamma_A.6.fits     \n",
            "  inflating: sims/kappa_A.9.fits     \n",
            "  inflating: sims/kappa_B.8.fits     \n",
            "  inflating: sims/kappa_B.4.fits     \n",
            "  inflating: sims/gamma_B.6.fits     \n"
          ]
        }
      ]
    },
    {
      "cell_type": "code",
      "source": [],
      "metadata": {
        "id": "Lo5t2OwqtsfY"
      },
      "execution_count": null,
      "outputs": []
    }
  ]
}